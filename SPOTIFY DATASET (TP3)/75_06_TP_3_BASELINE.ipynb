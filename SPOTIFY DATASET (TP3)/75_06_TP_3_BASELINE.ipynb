{
  "nbformat": 4,
  "nbformat_minor": 0,
  "metadata": {
    "colab": {
      "provenance": [],
      "collapsed_sections": [
        "3boCTg4Dx05B",
        "R0Yr2DVux0Qp",
        "g5dC7oDFx37g"
      ],
      "mount_file_id": "1gIErIDjkcP4trqFcAQV-x8x4hiBd-uLb",
      "authorship_tag": "ABX9TyMaVSF62TKTkjLVTFqpjTEZ",
      "include_colab_link": true
    },
    "kernelspec": {
      "name": "python3",
      "display_name": "Python 3"
    },
    "language_info": {
      "name": "python"
    }
  },
  "cells": [
    {
      "cell_type": "markdown",
      "metadata": {
        "id": "view-in-github",
        "colab_type": "text"
      },
      "source": [
        "<a href=\"https://colab.research.google.com/github/sbarreto10/data-science-2022/blob/main/SPOTIFY%20DATASET%20(TP3)/75_06_TP_3_BASELINE.ipynb\" target=\"_parent\"><img src=\"https://colab.research.google.com/assets/colab-badge.svg\" alt=\"Open In Colab\"/></a>"
      ]
    },
    {
      "cell_type": "markdown",
      "source": [
        "# **LECTURA**"
      ],
      "metadata": {
        "id": "3boCTg4Dx05B"
      }
    },
    {
      "cell_type": "code",
      "execution_count": null,
      "metadata": {
        "id": "7nhTbSdhveGB"
      },
      "outputs": [],
      "source": [
        "import pandas as pd\n",
        "import numpy as np\n",
        "import seaborn as sns\n",
        "import matplotlib.pyplot as plt\n",
        "import random\n",
        "pd.options.mode.chained_assignment = None"
      ]
    },
    {
      "cell_type": "code",
      "source": [
        "trainDf = pd.read_parquet(\"/content/drive/MyDrive/tp3/train.parquet\")\n",
        "testDf = pd.read_parquet(\"/content/drive/MyDrive/tp3/test.parquet\")"
      ],
      "metadata": {
        "id": "-4JfvcrFxsLS"
      },
      "execution_count": null,
      "outputs": []
    },
    {
      "cell_type": "markdown",
      "source": [
        "# **SPLIT**"
      ],
      "metadata": {
        "id": "R0Yr2DVux0Qp"
      }
    },
    {
      "cell_type": "code",
      "source": [
        "random.seed(3)\n",
        "artistList = trainDf.artist.unique().tolist()\n",
        "validationArtists = random.sample(artistList, int(0.2*len(artistList)))\n",
        "trainDf, valDf = trainDf.query(\"artist not in @validationArtists\"), trainDf.query(\"artist in @validationArtists\")"
      ],
      "metadata": {
        "id": "ewcXdMQAxyPi"
      },
      "execution_count": null,
      "outputs": []
    },
    {
      "cell_type": "markdown",
      "source": [
        "# **PREPROCESAMIENTO**"
      ],
      "metadata": {
        "id": "g5dC7oDFx37g"
      }
    },
    {
      "cell_type": "code",
      "source": [
        "import string\n",
        "import nltk\n",
        "nltk.download(\"stopwords\")\n",
        "nltk.download(\"punkt\")\n",
        "nltk.download(\"wordnet\")\n",
        "from nltk.corpus import stopwords\n",
        "from nltk.tokenize import sent_tokenize, word_tokenize\n",
        "stopwordsSpEn = set(stopwords.words('english')+stopwords.words('spanish'))\n",
        "sPunctuations = list(string.punctuation)\n",
        "sDigits = list(string.digits)"
      ],
      "metadata": {
        "colab": {
          "base_uri": "https://localhost:8080/"
        },
        "id": "EwzMdRUPx3dC",
        "outputId": "0893b2cc-1944-4913-d851-d311ca7a71c1"
      },
      "execution_count": null,
      "outputs": [
        {
          "output_type": "stream",
          "name": "stderr",
          "text": [
            "[nltk_data] Downloading package stopwords to /root/nltk_data...\n",
            "[nltk_data]   Unzipping corpora/stopwords.zip.\n",
            "[nltk_data] Downloading package punkt to /root/nltk_data...\n",
            "[nltk_data]   Unzipping tokenizers/punkt.zip.\n",
            "[nltk_data] Downloading package wordnet to /root/nltk_data...\n"
          ]
        }
      ]
    },
    {
      "cell_type": "code",
      "source": [
        "genreList = trainDf[\"genre\"].unique()"
      ],
      "metadata": {
        "id": "TGpI92b_yJfp"
      },
      "execution_count": null,
      "outputs": []
    },
    {
      "cell_type": "code",
      "source": [
        "def str_type_count(x, tset):\n",
        "    words = x.split()\n",
        "    return len([s for s in words if s in tset])\n",
        "\n",
        "def digit_count(x):\n",
        "    return len([d for d in x if d in sDigits])\n",
        "\n",
        "def word_max(x):\n",
        "    words = word_tokenize(x)\n",
        "    return 0 if len(words)==0 else max([len(w) for w in words])\n",
        "\n",
        "def word_min(x):\n",
        "    words = word_tokenize(x)\n",
        "    return 0 if len(words)==0 else min([len(w) for w in words if w not in stopwordsSpEn])\n",
        "\n",
        "def word_mean(x):\n",
        "    words = word_tokenize(x)\n",
        "    return 0 if len(words)==0 else np.mean([len(w) for w in words])\n",
        "\n",
        "def sent_max(x):\n",
        "    sents = sent_tokenize(x)\n",
        "    return 0 if len(sents)==0 else max([len(s) for s in sents])\n",
        "\n",
        "def sent_min(x):\n",
        "    sents = sent_tokenize(x)\n",
        "    return 0 if len(sents)==0 else min([len(s) for s in sents])\n",
        "\n",
        "def sent_mean(x):\n",
        "    sents = sent_tokenize(x)\n",
        "    return 0 if len(sents)==0 else np.mean([len(s) for s in sents])\n",
        "\n",
        "def preprocess(df):\n",
        "    # ARREGLOS Y DROPEOS\n",
        "    try:\n",
        "        df[\"genre\"][df[df.genre == \"Children's Music\"].index[0]] = \"Children’s Music\"\n",
        "    except:\n",
        "        pass\n",
        "    df = df.drop(columns = [\"track_name\",\"did\",\"artist\",\"a_genres\",\"a_songs\"])\n",
        "\n",
        "    # IMPUTACIÓN DE NULOS\n",
        "    s_labelMean = df[\"s-label\"].mean()\n",
        "    df.lyric = df.lyric.fillna(\"\").astype(str)\n",
        "    df.language = df.language.map(lambda x: \"ot\" if type(x)==type(None) else x)\n",
        "    df[\"s-label\"] = df[\"s-label\"].fillna(s_labelMean)\n",
        "    df[\"mode\"] = df[\"mode\"].map(lambda m: int(m==\"Major\"))\n",
        "\n",
        "    # CREACIÓN DE FEATURES A PARTIR DE LAS LYRICS\n",
        "    df[\"lyricCharCount\"] = df.lyric.map(len)\n",
        "    df[\"lyricWordCount\"] = df.lyric.map(lambda x: len(word_tokenize(x)))\n",
        "    df[\"lyricUniqueWordCount\"] = df.lyric.map(lambda x: len(set(x.split())))\n",
        "    df[\"lyricSentenceCount\"] = df.lyric.map(lambda x: len(sent_tokenize(x)))\n",
        "    df[\"lyricUniqueSentenceCount\"] = df.lyric.map(lambda x: len(set(sent_tokenize(x))))\n",
        "    df[\"lyricDigitCount\"] = df.lyric.map(digit_count)\n",
        "    df[\"lyricStopwordCount\"] = df.lyric.map(lambda x: str_type_count(x, stopwordsSpEn))\n",
        "    df[\"lyricPunctuationCount\"] = df.lyric.map(lambda x: str_type_count(x, sPunctuations))\n",
        "    df[\"lyricLongestWordLen\"] = df.lyric.map(word_max)\n",
        "    df[\"lyricShortestWordLen\"] = df.lyric.map(word_min)\n",
        "    df[\"lyricWordLenMean\"] = df.lyric.map(word_mean)\n",
        "    df[\"lyricLongestSentenceLen\"] = df.lyric.map(sent_max)\n",
        "    df[\"lyricShortestSentenceLen\"] = df.lyric.map(sent_min)\n",
        "    df[\"lyricSentenceLenMean\"] = df.lyric.map(sent_mean)\n",
        "\n",
        "    return df"
      ],
      "metadata": {
        "id": "2zOp1vO2yJ1z"
      },
      "execution_count": null,
      "outputs": []
    },
    {
      "cell_type": "code",
      "source": [
        "trainDf = preprocess(trainDf)\n",
        "valDf = preprocess(valDf)\n",
        "testDf = preprocess(testDf)"
      ],
      "metadata": {
        "id": "7mE8s9PuyksU"
      },
      "execution_count": null,
      "outputs": []
    },
    {
      "cell_type": "markdown",
      "source": [
        "# **ESTANDARIZACIÓN Y ENCODING**"
      ],
      "metadata": {
        "id": "zAn8Ok60yor-"
      }
    },
    {
      "cell_type": "code",
      "source": [
        "def normalized(column):\n",
        "    colStd = column.std()\n",
        "    return (column - column.mean()) / colStd if colStd!=0 else 0 * column"
      ],
      "metadata": {
        "id": "hzFQpPAQypB6"
      },
      "execution_count": null,
      "outputs": []
    },
    {
      "cell_type": "code",
      "source": [
        "def normalize_df(df, featureList):\n",
        "    for f in featureList:\n",
        "        df[f] = normalized(df[f])\n",
        "    return df"
      ],
      "metadata": {
        "id": "ioODF0KhyqTm"
      },
      "execution_count": null,
      "outputs": []
    },
    {
      "cell_type": "code",
      "source": [
        "from sklearn.preprocessing import OneHotEncoder\n",
        "\n",
        "def one_hot_encode(df, catCols):\n",
        "    encoder = OneHotEncoder(handle_unknown='ignore', sparse=False)\n",
        "    encoder.fit(df[catCols])\n",
        "    encFts = list(encoder.get_feature_names(catCols))\n",
        "    df[encFts] = encoder.transform(df[catCols])\n",
        "    return df"
      ],
      "metadata": {
        "id": "_zLfODqT5XJP"
      },
      "execution_count": null,
      "outputs": []
    },
    {
      "cell_type": "code",
      "source": [
        "catCols = [\"language\",\"time_signature\",\"key\"]\n",
        "trainDf = one_hot_encode(trainDf, catCols)\n",
        "valDf = one_hot_encode(valDf, catCols)\n",
        "testDf = one_hot_encode(testDf, catCols)"
      ],
      "metadata": {
        "id": "wJ0JP8yO7MeV",
        "colab": {
          "base_uri": "https://localhost:8080/"
        },
        "outputId": "f86fb213-62ea-4641-892b-73119325672b"
      },
      "execution_count": null,
      "outputs": [
        {
          "output_type": "stream",
          "name": "stderr",
          "text": [
            "/usr/local/lib/python3.7/dist-packages/sklearn/utils/deprecation.py:87: FutureWarning: Function get_feature_names is deprecated; get_feature_names is deprecated in 1.0 and will be removed in 1.2. Please use get_feature_names_out instead.\n",
            "  warnings.warn(msg, category=FutureWarning)\n",
            "/usr/local/lib/python3.7/dist-packages/sklearn/utils/deprecation.py:87: FutureWarning: Function get_feature_names is deprecated; get_feature_names is deprecated in 1.0 and will be removed in 1.2. Please use get_feature_names_out instead.\n",
            "  warnings.warn(msg, category=FutureWarning)\n",
            "/usr/local/lib/python3.7/dist-packages/sklearn/utils/deprecation.py:87: FutureWarning: Function get_feature_names is deprecated; get_feature_names is deprecated in 1.0 and will be removed in 1.2. Please use get_feature_names_out instead.\n",
            "  warnings.warn(msg, category=FutureWarning)\n"
          ]
        }
      ]
    },
    {
      "cell_type": "code",
      "source": [
        "featureList = [f for f in trainDf if f not in [\"genre\",\"lyric\",\"language\",\"time_signature\",\"key\"]]"
      ],
      "metadata": {
        "id": "zn8e7zA0yuEe"
      },
      "execution_count": null,
      "outputs": []
    },
    {
      "cell_type": "code",
      "source": [
        "# HAY CATEGORÍAS EN EL TRAIN_DF QUE NO ESTÁN EN EL VAL_DF O EN EL TEST_DF\n",
        "# COMO EL ONEHOTENCODING NO LAS CREO, LAS CREO COMO NULAS\n",
        "for f in featureList:\n",
        "    if f not in valDf:\n",
        "        valDf[f] = 0\n",
        "    if f not in testDf:\n",
        "        testDf[f] = 0"
      ],
      "metadata": {
        "id": "k2ljFnz_-nFi"
      },
      "execution_count": null,
      "outputs": []
    },
    {
      "cell_type": "code",
      "source": [
        "trainDf = normalize_df(trainDf, featureList)\n",
        "valDf = normalize_df(valDf, featureList)\n",
        "testDf = normalize_df(testDf, featureList)"
      ],
      "metadata": {
        "id": "4mD_4WFpyvac"
      },
      "execution_count": null,
      "outputs": []
    },
    {
      "cell_type": "code",
      "source": [
        "testDf = testDf.query(\"genre in @genreList\")\n",
        "valDf = valDf.query(\"genre in @genreList\")"
      ],
      "metadata": {
        "id": "SrJOL99ny09O"
      },
      "execution_count": null,
      "outputs": []
    },
    {
      "cell_type": "code",
      "source": [
        "X_train, y_train = trainDf[featureList], trainDf.genre.astype(str)\n",
        "X_test, y_test = testDf[featureList], testDf.genre.astype(str)\n",
        "X_val, y_val = valDf[featureList], valDf.genre.astype(str)"
      ],
      "metadata": {
        "id": "HtNnTUD7y4qW"
      },
      "execution_count": null,
      "outputs": []
    },
    {
      "cell_type": "markdown",
      "source": [
        "# **ENTRENAMIENTO Y OPTIMIZACIÓN**"
      ],
      "metadata": {
        "id": "HSCcDliZzLU1"
      }
    },
    {
      "cell_type": "code",
      "source": [
        "from sklearn.linear_model import LogisticRegression\n",
        "from sklearn.metrics import top_k_accuracy_score\n",
        "from scipy.stats import loguniform\n",
        "from sklearn.model_selection import RandomizedSearchCV"
      ],
      "metadata": {
        "id": "uENx7-7hzLno"
      },
      "execution_count": null,
      "outputs": []
    },
    {
      "cell_type": "code",
      "source": [
        "mlModel = LogisticRegression(multi_class = 'multinomial', random_state = 33)\n",
        "mlModel.fit(X_train, y_train)"
      ],
      "metadata": {
        "colab": {
          "base_uri": "https://localhost:8080/"
        },
        "id": "NOaA83icJ5NP",
        "outputId": "fa61e60a-889f-4f0c-deff-5fe8fb946963"
      },
      "execution_count": null,
      "outputs": [
        {
          "output_type": "stream",
          "name": "stderr",
          "text": [
            "/usr/local/lib/python3.7/dist-packages/sklearn/linear_model/_logistic.py:818: ConvergenceWarning: lbfgs failed to converge (status=1):\n",
            "STOP: TOTAL NO. of ITERATIONS REACHED LIMIT.\n",
            "\n",
            "Increase the number of iterations (max_iter) or scale the data as shown in:\n",
            "    https://scikit-learn.org/stable/modules/preprocessing.html\n",
            "Please also refer to the documentation for alternative solver options:\n",
            "    https://scikit-learn.org/stable/modules/linear_model.html#logistic-regression\n",
            "  extra_warning_msg=_LOGISTIC_SOLVER_CONVERGENCE_MSG,\n"
          ]
        },
        {
          "output_type": "execute_result",
          "data": {
            "text/plain": [
              "LogisticRegression(multi_class='multinomial', random_state=33)"
            ]
          },
          "metadata": {},
          "execution_count": 18
        }
      ]
    },
    {
      "cell_type": "code",
      "source": [
        "hpar_space = {\n",
        "    \"penalty\": ['none', 'l1', 'l2', 'elasticnet'],\n",
        "    \"C\": np.logspace(0, 4, 20),\n",
        "    \"solver\": ['newton-cg', 'lbfgs', 'liblinear']\n",
        "}"
      ],
      "metadata": {
        "id": "Jfj9RQYNBf7O"
      },
      "execution_count": null,
      "outputs": []
    },
    {
      "cell_type": "code",
      "source": [
        "search = RandomizedSearchCV(mlModel, hpar_space, n_iter=12, cv=3, scoring='accuracy', verbose=10, random_state=420)\n",
        "result = search.fit(X_train, y_train)"
      ],
      "metadata": {
        "colab": {
          "base_uri": "https://localhost:8080/"
        },
        "id": "KhJc52zRG294",
        "outputId": "9c1da340-42ca-41d5-bcd1-5d823e74b430"
      },
      "execution_count": null,
      "outputs": [
        {
          "output_type": "stream",
          "name": "stdout",
          "text": [
            "Fitting 3 folds for each of 12 candidates, totalling 36 fits\n",
            "[CV 1/3; 1/12] START C=18.329807108324356, penalty=l2, solver=lbfgs.............\n"
          ]
        },
        {
          "output_type": "stream",
          "name": "stderr",
          "text": [
            "/usr/local/lib/python3.7/dist-packages/sklearn/linear_model/_logistic.py:818: ConvergenceWarning: lbfgs failed to converge (status=1):\n",
            "STOP: TOTAL NO. of ITERATIONS REACHED LIMIT.\n",
            "\n",
            "Increase the number of iterations (max_iter) or scale the data as shown in:\n",
            "    https://scikit-learn.org/stable/modules/preprocessing.html\n",
            "Please also refer to the documentation for alternative solver options:\n",
            "    https://scikit-learn.org/stable/modules/linear_model.html#logistic-regression\n",
            "  extra_warning_msg=_LOGISTIC_SOLVER_CONVERGENCE_MSG,\n"
          ]
        },
        {
          "output_type": "stream",
          "name": "stdout",
          "text": [
            "[CV 1/3; 1/12] END C=18.329807108324356, penalty=l2, solver=lbfgs;, score=0.339 total time=   5.1s\n",
            "[CV 2/3; 1/12] START C=18.329807108324356, penalty=l2, solver=lbfgs.............\n"
          ]
        },
        {
          "output_type": "stream",
          "name": "stderr",
          "text": [
            "/usr/local/lib/python3.7/dist-packages/sklearn/linear_model/_logistic.py:818: ConvergenceWarning: lbfgs failed to converge (status=1):\n",
            "STOP: TOTAL NO. of ITERATIONS REACHED LIMIT.\n",
            "\n",
            "Increase the number of iterations (max_iter) or scale the data as shown in:\n",
            "    https://scikit-learn.org/stable/modules/preprocessing.html\n",
            "Please also refer to the documentation for alternative solver options:\n",
            "    https://scikit-learn.org/stable/modules/linear_model.html#logistic-regression\n",
            "  extra_warning_msg=_LOGISTIC_SOLVER_CONVERGENCE_MSG,\n"
          ]
        },
        {
          "output_type": "stream",
          "name": "stdout",
          "text": [
            "[CV 2/3; 1/12] END C=18.329807108324356, penalty=l2, solver=lbfgs;, score=0.306 total time=   5.0s\n",
            "[CV 3/3; 1/12] START C=18.329807108324356, penalty=l2, solver=lbfgs.............\n"
          ]
        },
        {
          "output_type": "stream",
          "name": "stderr",
          "text": [
            "/usr/local/lib/python3.7/dist-packages/sklearn/linear_model/_logistic.py:818: ConvergenceWarning: lbfgs failed to converge (status=1):\n",
            "STOP: TOTAL NO. of ITERATIONS REACHED LIMIT.\n",
            "\n",
            "Increase the number of iterations (max_iter) or scale the data as shown in:\n",
            "    https://scikit-learn.org/stable/modules/preprocessing.html\n",
            "Please also refer to the documentation for alternative solver options:\n",
            "    https://scikit-learn.org/stable/modules/linear_model.html#logistic-regression\n",
            "  extra_warning_msg=_LOGISTIC_SOLVER_CONVERGENCE_MSG,\n"
          ]
        },
        {
          "output_type": "stream",
          "name": "stdout",
          "text": [
            "[CV 3/3; 1/12] END C=18.329807108324356, penalty=l2, solver=lbfgs;, score=0.210 total time=   5.0s\n",
            "[CV 1/3; 2/12] START C=4.281332398719393, penalty=l2, solver=newton-cg..........\n",
            "[CV 1/3; 2/12] END C=4.281332398719393, penalty=l2, solver=newton-cg;, score=0.342 total time= 1.4min\n",
            "[CV 2/3; 2/12] START C=4.281332398719393, penalty=l2, solver=newton-cg..........\n",
            "[CV 2/3; 2/12] END C=4.281332398719393, penalty=l2, solver=newton-cg;, score=0.307 total time=  52.4s\n",
            "[CV 3/3; 2/12] START C=4.281332398719393, penalty=l2, solver=newton-cg..........\n",
            "[CV 3/3; 2/12] END C=4.281332398719393, penalty=l2, solver=newton-cg;, score=0.235 total time=  59.4s\n",
            "[CV 1/3; 3/12] START C=10000.0, penalty=elasticnet, solver=liblinear............\n",
            "[CV 1/3; 3/12] END C=10000.0, penalty=elasticnet, solver=liblinear;, score=nan total time=   0.0s\n",
            "[CV 2/3; 3/12] START C=10000.0, penalty=elasticnet, solver=liblinear............\n",
            "[CV 2/3; 3/12] END C=10000.0, penalty=elasticnet, solver=liblinear;, score=nan total time=   0.0s\n",
            "[CV 3/3; 3/12] START C=10000.0, penalty=elasticnet, solver=liblinear............\n",
            "[CV 3/3; 3/12] END C=10000.0, penalty=elasticnet, solver=liblinear;, score=nan total time=   0.0s\n",
            "[CV 1/3; 4/12] START C=6158.48211066026, penalty=l2, solver=newton-cg...........\n"
          ]
        },
        {
          "output_type": "stream",
          "name": "stderr",
          "text": [
            "/usr/local/lib/python3.7/dist-packages/sklearn/utils/optimize.py:212: ConvergenceWarning: newton-cg failed to converge. Increase the number of iterations.\n",
            "  ConvergenceWarning,\n"
          ]
        },
        {
          "output_type": "stream",
          "name": "stdout",
          "text": [
            "[CV 1/3; 4/12] END C=6158.48211066026, penalty=l2, solver=newton-cg;, score=0.341 total time= 3.8min\n",
            "[CV 2/3; 4/12] START C=6158.48211066026, penalty=l2, solver=newton-cg...........\n"
          ]
        },
        {
          "output_type": "stream",
          "name": "stderr",
          "text": [
            "/usr/local/lib/python3.7/dist-packages/sklearn/utils/optimize.py:212: ConvergenceWarning: newton-cg failed to converge. Increase the number of iterations.\n",
            "  ConvergenceWarning,\n"
          ]
        },
        {
          "output_type": "stream",
          "name": "stdout",
          "text": [
            "[CV 2/3; 4/12] END C=6158.48211066026, penalty=l2, solver=newton-cg;, score=0.306 total time= 3.6min\n",
            "[CV 3/3; 4/12] START C=6158.48211066026, penalty=l2, solver=newton-cg...........\n"
          ]
        },
        {
          "output_type": "stream",
          "name": "stderr",
          "text": [
            "/usr/local/lib/python3.7/dist-packages/sklearn/utils/optimize.py:212: ConvergenceWarning: newton-cg failed to converge. Increase the number of iterations.\n",
            "  ConvergenceWarning,\n",
            "/usr/local/lib/python3.7/dist-packages/sklearn/linear_model/_logistic.py:1484: UserWarning: Setting penalty='none' will ignore the C and l1_ratio parameters\n",
            "  \"Setting penalty='none' will ignore the C and l1_ratio parameters\"\n"
          ]
        },
        {
          "output_type": "stream",
          "name": "stdout",
          "text": [
            "[CV 3/3; 4/12] END C=6158.48211066026, penalty=l2, solver=newton-cg;, score=0.173 total time= 3.5min\n",
            "[CV 1/3; 5/12] START C=335.9818286283781, penalty=l1, solver=liblinear..........\n",
            "[CV 1/3; 5/12] END C=335.9818286283781, penalty=l1, solver=liblinear;, score=nan total time=   0.0s\n",
            "[CV 2/3; 5/12] START C=335.9818286283781, penalty=l1, solver=liblinear..........\n",
            "[CV 2/3; 5/12] END C=335.9818286283781, penalty=l1, solver=liblinear;, score=nan total time=   0.0s\n",
            "[CV 3/3; 5/12] START C=335.9818286283781, penalty=l1, solver=liblinear..........\n",
            "[CV 3/3; 5/12] END C=335.9818286283781, penalty=l1, solver=liblinear;, score=nan total time=   0.0s\n",
            "[CV 1/3; 6/12] START C=2.636650898730358, penalty=none, solver=newton-cg........\n"
          ]
        },
        {
          "output_type": "stream",
          "name": "stderr",
          "text": [
            "/usr/local/lib/python3.7/dist-packages/sklearn/utils/optimize.py:212: ConvergenceWarning: newton-cg failed to converge. Increase the number of iterations.\n",
            "  ConvergenceWarning,\n",
            "/usr/local/lib/python3.7/dist-packages/sklearn/linear_model/_logistic.py:1484: UserWarning: Setting penalty='none' will ignore the C and l1_ratio parameters\n",
            "  \"Setting penalty='none' will ignore the C and l1_ratio parameters\"\n"
          ]
        },
        {
          "output_type": "stream",
          "name": "stdout",
          "text": [
            "[CV 1/3; 6/12] END C=2.636650898730358, penalty=none, solver=newton-cg;, score=0.341 total time= 3.7min\n",
            "[CV 2/3; 6/12] START C=2.636650898730358, penalty=none, solver=newton-cg........\n"
          ]
        },
        {
          "output_type": "stream",
          "name": "stderr",
          "text": [
            "/usr/local/lib/python3.7/dist-packages/sklearn/utils/optimize.py:212: ConvergenceWarning: newton-cg failed to converge. Increase the number of iterations.\n",
            "  ConvergenceWarning,\n",
            "/usr/local/lib/python3.7/dist-packages/sklearn/linear_model/_logistic.py:1484: UserWarning: Setting penalty='none' will ignore the C and l1_ratio parameters\n",
            "  \"Setting penalty='none' will ignore the C and l1_ratio parameters\"\n"
          ]
        },
        {
          "output_type": "stream",
          "name": "stdout",
          "text": [
            "[CV 2/3; 6/12] END C=2.636650898730358, penalty=none, solver=newton-cg;, score=0.305 total time= 3.5min\n",
            "[CV 3/3; 6/12] START C=2.636650898730358, penalty=none, solver=newton-cg........\n"
          ]
        },
        {
          "output_type": "stream",
          "name": "stderr",
          "text": [
            "/usr/local/lib/python3.7/dist-packages/sklearn/utils/optimize.py:212: ConvergenceWarning: newton-cg failed to converge. Increase the number of iterations.\n",
            "  ConvergenceWarning,\n"
          ]
        },
        {
          "output_type": "stream",
          "name": "stdout",
          "text": [
            "[CV 3/3; 6/12] END C=2.636650898730358, penalty=none, solver=newton-cg;, score=0.171 total time= 3.3min\n",
            "[CV 1/3; 7/12] START C=78.47599703514611, penalty=l1, solver=lbfgs..............\n",
            "[CV 1/3; 7/12] END C=78.47599703514611, penalty=l1, solver=lbfgs;, score=nan total time=   0.0s\n",
            "[CV 2/3; 7/12] START C=78.47599703514611, penalty=l1, solver=lbfgs..............\n",
            "[CV 2/3; 7/12] END C=78.47599703514611, penalty=l1, solver=lbfgs;, score=nan total time=   0.0s\n",
            "[CV 3/3; 7/12] START C=78.47599703514611, penalty=l1, solver=lbfgs..............\n",
            "[CV 3/3; 7/12] END C=78.47599703514611, penalty=l1, solver=lbfgs;, score=nan total time=   0.0s\n",
            "[CV 1/3; 8/12] START C=545.5594781168514, penalty=elasticnet, solver=liblinear..\n",
            "[CV 1/3; 8/12] END C=545.5594781168514, penalty=elasticnet, solver=liblinear;, score=nan total time=   0.0s\n",
            "[CV 2/3; 8/12] START C=545.5594781168514, penalty=elasticnet, solver=liblinear..\n",
            "[CV 2/3; 8/12] END C=545.5594781168514, penalty=elasticnet, solver=liblinear;, score=nan total time=   0.0s\n",
            "[CV 3/3; 8/12] START C=545.5594781168514, penalty=elasticnet, solver=liblinear..\n",
            "[CV 3/3; 8/12] END C=545.5594781168514, penalty=elasticnet, solver=liblinear;, score=nan total time=   0.0s\n",
            "[CV 1/3; 9/12] START C=1.6237767391887217, penalty=l2, solver=lbfgs.............\n"
          ]
        },
        {
          "output_type": "stream",
          "name": "stderr",
          "text": [
            "/usr/local/lib/python3.7/dist-packages/sklearn/linear_model/_logistic.py:818: ConvergenceWarning: lbfgs failed to converge (status=1):\n",
            "STOP: TOTAL NO. of ITERATIONS REACHED LIMIT.\n",
            "\n",
            "Increase the number of iterations (max_iter) or scale the data as shown in:\n",
            "    https://scikit-learn.org/stable/modules/preprocessing.html\n",
            "Please also refer to the documentation for alternative solver options:\n",
            "    https://scikit-learn.org/stable/modules/linear_model.html#logistic-regression\n",
            "  extra_warning_msg=_LOGISTIC_SOLVER_CONVERGENCE_MSG,\n"
          ]
        },
        {
          "output_type": "stream",
          "name": "stdout",
          "text": [
            "[CV 1/3; 9/12] END C=1.6237767391887217, penalty=l2, solver=lbfgs;, score=0.340 total time=   4.9s\n",
            "[CV 2/3; 9/12] START C=1.6237767391887217, penalty=l2, solver=lbfgs.............\n"
          ]
        },
        {
          "output_type": "stream",
          "name": "stderr",
          "text": [
            "/usr/local/lib/python3.7/dist-packages/sklearn/linear_model/_logistic.py:818: ConvergenceWarning: lbfgs failed to converge (status=1):\n",
            "STOP: TOTAL NO. of ITERATIONS REACHED LIMIT.\n",
            "\n",
            "Increase the number of iterations (max_iter) or scale the data as shown in:\n",
            "    https://scikit-learn.org/stable/modules/preprocessing.html\n",
            "Please also refer to the documentation for alternative solver options:\n",
            "    https://scikit-learn.org/stable/modules/linear_model.html#logistic-regression\n",
            "  extra_warning_msg=_LOGISTIC_SOLVER_CONVERGENCE_MSG,\n"
          ]
        },
        {
          "output_type": "stream",
          "name": "stdout",
          "text": [
            "[CV 2/3; 9/12] END C=1.6237767391887217, penalty=l2, solver=lbfgs;, score=0.307 total time=   4.7s\n",
            "[CV 3/3; 9/12] START C=1.6237767391887217, penalty=l2, solver=lbfgs.............\n"
          ]
        },
        {
          "output_type": "stream",
          "name": "stderr",
          "text": [
            "/usr/local/lib/python3.7/dist-packages/sklearn/linear_model/_logistic.py:818: ConvergenceWarning: lbfgs failed to converge (status=1):\n",
            "STOP: TOTAL NO. of ITERATIONS REACHED LIMIT.\n",
            "\n",
            "Increase the number of iterations (max_iter) or scale the data as shown in:\n",
            "    https://scikit-learn.org/stable/modules/preprocessing.html\n",
            "Please also refer to the documentation for alternative solver options:\n",
            "    https://scikit-learn.org/stable/modules/linear_model.html#logistic-regression\n",
            "  extra_warning_msg=_LOGISTIC_SOLVER_CONVERGENCE_MSG,\n"
          ]
        },
        {
          "output_type": "stream",
          "name": "stdout",
          "text": [
            "[CV 3/3; 9/12] END C=1.6237767391887217, penalty=l2, solver=lbfgs;, score=0.215 total time=   4.8s\n",
            "[CV 1/3; 10/12] START C=1.6237767391887217, penalty=l2, solver=newton-cg........\n",
            "[CV 1/3; 10/12] END C=1.6237767391887217, penalty=l2, solver=newton-cg;, score=0.342 total time=  41.3s\n",
            "[CV 2/3; 10/12] START C=1.6237767391887217, penalty=l2, solver=newton-cg........\n",
            "[CV 2/3; 10/12] END C=1.6237767391887217, penalty=l2, solver=newton-cg;, score=0.306 total time=  29.1s\n",
            "[CV 3/3; 10/12] START C=1.6237767391887217, penalty=l2, solver=newton-cg........\n",
            "[CV 3/3; 10/12] END C=1.6237767391887217, penalty=l2, solver=newton-cg;, score=0.235 total time=  33.3s\n",
            "[CV 1/3; 11/12] START C=885.8667904100823, penalty=l1, solver=lbfgs.............\n",
            "[CV 1/3; 11/12] END C=885.8667904100823, penalty=l1, solver=lbfgs;, score=nan total time=   0.0s\n",
            "[CV 2/3; 11/12] START C=885.8667904100823, penalty=l1, solver=lbfgs.............\n",
            "[CV 2/3; 11/12] END C=885.8667904100823, penalty=l1, solver=lbfgs;, score=nan total time=   0.0s\n",
            "[CV 3/3; 11/12] START C=885.8667904100823, penalty=l1, solver=lbfgs.............\n",
            "[CV 3/3; 11/12] END C=885.8667904100823, penalty=l1, solver=lbfgs;, score=nan total time=   0.0s\n",
            "[CV 1/3; 12/12] START C=6158.48211066026, penalty=elasticnet, solver=liblinear..\n",
            "[CV 1/3; 12/12] END C=6158.48211066026, penalty=elasticnet, solver=liblinear;, score=nan total time=   0.0s\n",
            "[CV 2/3; 12/12] START C=6158.48211066026, penalty=elasticnet, solver=liblinear..\n",
            "[CV 2/3; 12/12] END C=6158.48211066026, penalty=elasticnet, solver=liblinear;, score=nan total time=   0.0s\n",
            "[CV 3/3; 12/12] START C=6158.48211066026, penalty=elasticnet, solver=liblinear..\n",
            "[CV 3/3; 12/12] END C=6158.48211066026, penalty=elasticnet, solver=liblinear;, score=nan total time=   0.0s\n"
          ]
        },
        {
          "output_type": "stream",
          "name": "stderr",
          "text": [
            "/usr/local/lib/python3.7/dist-packages/sklearn/model_selection/_validation.py:372: FitFailedWarning: \n",
            "18 fits failed out of a total of 36.\n",
            "The score on these train-test partitions for these parameters will be set to nan.\n",
            "If these failures are not expected, you can try to debug them by setting error_score='raise'.\n",
            "\n",
            "Below are more details about the failures:\n",
            "--------------------------------------------------------------------------------\n",
            "9 fits failed with the following error:\n",
            "Traceback (most recent call last):\n",
            "  File \"/usr/local/lib/python3.7/dist-packages/sklearn/model_selection/_validation.py\", line 680, in _fit_and_score\n",
            "    estimator.fit(X_train, y_train, **fit_params)\n",
            "  File \"/usr/local/lib/python3.7/dist-packages/sklearn/linear_model/_logistic.py\", line 1461, in fit\n",
            "    solver = _check_solver(self.solver, self.penalty, self.dual)\n",
            "  File \"/usr/local/lib/python3.7/dist-packages/sklearn/linear_model/_logistic.py\", line 459, in _check_solver\n",
            "    solver\n",
            "ValueError: Only 'saga' solver supports elasticnet penalty, got solver=liblinear.\n",
            "\n",
            "--------------------------------------------------------------------------------\n",
            "3 fits failed with the following error:\n",
            "Traceback (most recent call last):\n",
            "  File \"/usr/local/lib/python3.7/dist-packages/sklearn/model_selection/_validation.py\", line 680, in _fit_and_score\n",
            "    estimator.fit(X_train, y_train, **fit_params)\n",
            "  File \"/usr/local/lib/python3.7/dist-packages/sklearn/linear_model/_logistic.py\", line 1519, in fit\n",
            "    multi_class = _check_multi_class(self.multi_class, solver, len(self.classes_))\n",
            "  File \"/usr/local/lib/python3.7/dist-packages/sklearn/linear_model/_logistic.py\", line 483, in _check_multi_class\n",
            "    raise ValueError(\"Solver %s does not support a multinomial backend.\" % solver)\n",
            "ValueError: Solver liblinear does not support a multinomial backend.\n",
            "\n",
            "--------------------------------------------------------------------------------\n",
            "6 fits failed with the following error:\n",
            "Traceback (most recent call last):\n",
            "  File \"/usr/local/lib/python3.7/dist-packages/sklearn/model_selection/_validation.py\", line 680, in _fit_and_score\n",
            "    estimator.fit(X_train, y_train, **fit_params)\n",
            "  File \"/usr/local/lib/python3.7/dist-packages/sklearn/linear_model/_logistic.py\", line 1461, in fit\n",
            "    solver = _check_solver(self.solver, self.penalty, self.dual)\n",
            "  File \"/usr/local/lib/python3.7/dist-packages/sklearn/linear_model/_logistic.py\", line 449, in _check_solver\n",
            "    % (solver, penalty)\n",
            "ValueError: Solver lbfgs supports only 'l2' or 'none' penalties, got l1 penalty.\n",
            "\n",
            "  warnings.warn(some_fits_failed_message, FitFailedWarning)\n",
            "/usr/local/lib/python3.7/dist-packages/sklearn/model_selection/_search.py:972: UserWarning: One or more of the test scores are non-finite: [0.28495395 0.29456076        nan 0.2730349         nan 0.27247684\n",
            "        nan        nan 0.28734565 0.29392302        nan        nan]\n",
            "  category=UserWarning,\n"
          ]
        }
      ]
    },
    {
      "cell_type": "code",
      "source": [
        "mlModel = result.best_estimator_"
      ],
      "metadata": {
        "id": "OOEaZxgT2TtH"
      },
      "execution_count": null,
      "outputs": []
    },
    {
      "cell_type": "code",
      "source": [
        "mlModel"
      ],
      "metadata": {
        "colab": {
          "base_uri": "https://localhost:8080/"
        },
        "id": "KIcqfvbpbF_9",
        "outputId": "094621e5-5e92-4994-ecb1-a8b45e61df64"
      },
      "execution_count": null,
      "outputs": [
        {
          "output_type": "execute_result",
          "data": {
            "text/plain": [
              "LogisticRegression(C=4.281332398719393, multi_class='multinomial',\n",
              "                   random_state=33, solver='newton-cg')"
            ]
          },
          "metadata": {},
          "execution_count": 26
        }
      ]
    },
    {
      "cell_type": "markdown",
      "source": [
        "# **VALIDACIÓN**"
      ],
      "metadata": {
        "id": "VwckpoB1zPYd"
      }
    },
    {
      "cell_type": "code",
      "source": [
        "valProbs = mlModel.predict_proba(X_val)\n",
        "bestValScore = top_k_accuracy_score(y_val, valProbs, k=2, labels=mlModel.classes_)"
      ],
      "metadata": {
        "id": "ISeCNqDf9PcB"
      },
      "execution_count": null,
      "outputs": []
    },
    {
      "cell_type": "markdown",
      "source": [
        "# **PREGUNTAS**"
      ],
      "metadata": {
        "id": "qTUPyZvGPLrD"
      }
    },
    {
      "cell_type": "code",
      "source": [
        "#@title ¿Cuál es el mejor score de validación obtenido? (¿Cómo conviene obtener el dataset para validar?)\n",
        "print(\"Mejor score de validación: \" + str(bestValScore))\n",
        "print(\"\\nEl dataset de entrenamiento original es dividido en un 80% para entrenamiento y un 20% para validación tal que cada subset\")\n",
        "print(\"tenga un conjunto diferente de artistas. Esto debido a que es muy probable que un artista se corresponda con un solo género,\")\n",
        "print(\"filtrando el label a predecir y, por ende, causando overfitting\")"
      ],
      "metadata": {
        "colab": {
          "base_uri": "https://localhost:8080/"
        },
        "cellView": "form",
        "id": "XSkGIAcs9znc",
        "outputId": "441e19bf-b990-45f1-bf96-c04db45b5629"
      },
      "execution_count": null,
      "outputs": [
        {
          "output_type": "stream",
          "name": "stdout",
          "text": [
            "Mejor score de validación: 0.5173401209035953\n",
            "\n",
            "El dataset de entrenamiento original es dividido en un 80% para entrenamiento y un 20% para validación tal que cada subset\n",
            "tenga un conjunto diferente de artistas. Esto debido a que es muy probable que un artista se corresponda con un solo género,\n",
            "filtrando el label a predecir y, por ende, causando overfitting\n"
          ]
        }
      ]
    },
    {
      "cell_type": "code",
      "source": [
        "#@title Al predecir con este modelo para test, ¿Cúal es el score obtenido?\n",
        "testProbs = mlModel.predict_proba(X_test)\n",
        "testScore = top_k_accuracy_score(y_test, testProbs, k=2, labels=mlModel.classes_)\n",
        "print(\"Score obtenido en el dataset de test: \" + str(testScore))"
      ],
      "metadata": {
        "colab": {
          "base_uri": "https://localhost:8080/"
        },
        "id": "g7te0jJVzXS_",
        "outputId": "d7326e66-171c-43cb-ff79-9f17e6ece095"
      },
      "execution_count": null,
      "outputs": [
        {
          "output_type": "stream",
          "name": "stdout",
          "text": [
            "Score obtenido en el dataset de test: 0.474949221394719\n"
          ]
        }
      ]
    },
    {
      "cell_type": "code",
      "source": [
        "pd.DataFrame(testProbs, columns=mlModel.classes_, index=X_test.index).to_csv(\"/content/drive/MyDrive/tp3/parte2/PrediccionesTestBaseline.csv\")"
      ],
      "metadata": {
        "id": "XmFCVsGp8D-m"
      },
      "execution_count": null,
      "outputs": []
    },
    {
      "cell_type": "code",
      "source": [
        "#@title ¿Qué features son los más importantes para predecir con el mejor modelo? Graficar.\n",
        "explDict = {\"a_popularity\": \"Popularidad del artista\",\n",
        "            \"lyricWordCount\": \"Cantidad de palabras de la lyric\",\n",
        "            \"lyricCharCount\": \"Cantidad de caractreres de la lyric\"}\n",
        "ftImportances = pd.DataFrame(mlModel.coef_, index=mlModel.classes_, columns=mlModel.feature_names_in_)\\\n",
        "                .transform(abs).sum()\\\n",
        "                .sort_values(ascending=False).head(20)\n",
        "halfOfMaxFt = ftImportances.max()/2\n",
        "print(\"Features que son remarcablemente importantes:\")\n",
        "for f in ftImportances.index:\n",
        "    if ftImportances[f]>halfOfMaxFt:\n",
        "        print(f + \" (\" + explDict[f] + \")\")\n",
        "print(\"\\n\\n\")\n",
        "\n",
        "plt.figure(dpi=150, figsize=(6,3), facecolor=\"#FF6BA1\")\n",
        "\n",
        "X_axis = np.arange(len(ftImportances))\n",
        "\n",
        "plt.bar(X_axis, ftImportances, 0.75, color=\"#F8FFDE\", edgecolor=\"#404040\")\n",
        "\n",
        "plt.axes().set_facecolor(\"#00FF57\")\n",
        "plt.xlabel(\"Feature\")\n",
        "plt.ylabel(\"Importancia\")\n",
        "plt.title(\"Imporancia de las features\")\n",
        "plt.xticks(X_axis, ftImportances.index, rotation=90, size=7)\n",
        "plt.show()"
      ],
      "metadata": {
        "colab": {
          "base_uri": "https://localhost:8080/",
          "height": 798
        },
        "id": "NgJHUKPvFPp0",
        "outputId": "19fcc8ab-3d99-4a1e-9d66-01a0fe515df3"
      },
      "execution_count": null,
      "outputs": [
        {
          "output_type": "stream",
          "name": "stdout",
          "text": [
            "Features que son remarcablemente importantes:\n",
            "a_popularity (Popularidad del artista)\n",
            "lyricWordCount (Cantidad de palabras de la lyric)\n",
            "\n",
            "\n",
            "\n"
          ]
        },
        {
          "output_type": "stream",
          "name": "stderr",
          "text": [
            "/usr/local/lib/python3.7/dist-packages/ipykernel_launcher.py:21: MatplotlibDeprecationWarning: Adding an axes using the same arguments as a previous axes currently reuses the earlier instance.  In a future version, a new instance will always be created and returned.  Meanwhile, this warning can be suppressed, and the future behavior ensured, by passing a unique label to each axes instance.\n"
          ]
        },
        {
          "output_type": "display_data",
          "data": {
            "text/plain": [
              "<Figure size 900x450 with 1 Axes>"
            ],
            "image/png": "[encoded data removed]"
          },
          "metadata": {}
        }
      ]
    }
  ]
}