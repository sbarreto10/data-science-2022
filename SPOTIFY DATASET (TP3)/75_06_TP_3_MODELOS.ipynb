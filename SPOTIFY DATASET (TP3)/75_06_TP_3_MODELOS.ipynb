{
  "nbformat": 4,
  "nbformat_minor": 0,
  "metadata": {
    "colab": {
      "provenance": [],
      "collapsed_sections": [
        "4lZFsGHGhTSX",
        "cvI_ihfJhYpy"
      ],
      "mount_file_id": "11rQljElBgTLBGezN1as6n_G15wsa2tYd",
      "authorship_tag": "ABX9TyO+kuZTicEMvA3aEapvYi6H",
      "include_colab_link": true
    },
    "kernelspec": {
      "name": "python3",
      "display_name": "Python 3"
    },
    "language_info": {
      "name": "python"
    }
  },
  "cells": [
    {
      "cell_type": "markdown",
      "metadata": {
        "id": "view-in-github",
        "colab_type": "text"
      },
      "source": [
        "<a href=\"https://colab.research.google.com/github/sbarreto10/data-science-2022/blob/main/SPOTIFY%20DATASET%20(TP3)/75_06_TP_3_MODELOS.ipynb\" target=\"_parent\"><img src=\"https://colab.research.google.com/assets/colab-badge.svg\" alt=\"Open In Colab\"/></a>"
      ]
    },
    {
      "cell_type": "markdown",
      "source": [
        "# **LECTURA**"
      ],
      "metadata": {
        "id": "4lZFsGHGhTSX"
      }
    },
    {
      "cell_type": "code",
      "execution_count": null,
      "metadata": {
        "id": "okC1UE4sb62Y"
      },
      "outputs": [],
      "source": [
        "import pandas as pd\n",
        "import numpy as np\n",
        "import seaborn as sns\n",
        "import matplotlib.pyplot as plt\n",
        "import random\n",
        "pd.options.mode.chained_assignment = None"
      ]
    },
    {
      "cell_type": "code",
      "source": [
        "trainDf = pd.read_parquet(\"/content/drive/MyDrive/tp3/train.parquet\")\n",
        "testDf = pd.read_parquet(\"/content/drive/MyDrive/tp3/test.parquet\")"
      ],
      "metadata": {
        "id": "OlCcEQkNhQhl"
      },
      "execution_count": null,
      "outputs": []
    },
    {
      "cell_type": "markdown",
      "source": [
        "# **SPLIT**"
      ],
      "metadata": {
        "id": "cvI_ihfJhYpy"
      }
    },
    {
      "cell_type": "code",
      "source": [
        "random.seed(3)\n",
        "artistList = trainDf.artist.unique().tolist()\n",
        "validationArtists = random.sample(artistList, int(0.2*len(artistList)))\n",
        "trainDf, valDf = trainDf.query(\"artist not in @validationArtists\"), trainDf.query(\"artist in @validationArtists\")"
      ],
      "metadata": {
        "id": "hoDHdxU_hYMi"
      },
      "execution_count": null,
      "outputs": []
    },
    {
      "cell_type": "markdown",
      "source": [
        "# **PREPROCESAMIENTO**"
      ],
      "metadata": {
        "id": "79bPUAlQVOk5"
      }
    },
    {
      "cell_type": "code",
      "source": [
        "genreList = trainDf[\"genre\"].unique().tolist()"
      ],
      "metadata": {
        "id": "MJXR1p73VOMu"
      },
      "execution_count": null,
      "outputs": []
    },
    {
      "cell_type": "code",
      "source": [
        "import string\n",
        "import nltk\n",
        "nltk.download(\"stopwords\")\n",
        "nltk.download(\"punkt\")\n",
        "nltk.download(\"wordnet\")\n",
        "from nltk.corpus import stopwords\n",
        "from nltk.tokenize import sent_tokenize, word_tokenize\n",
        "stopwordsSpEn = set(stopwords.words('english')+stopwords.words('spanish'))\n",
        "sPunctuations = list(string.punctuation)\n",
        "sDigits = list(string.digits)"
      ],
      "metadata": {
        "id": "aovYlu3xeAgc",
        "colab": {
          "base_uri": "https://localhost:8080/"
        },
        "outputId": "ae5871fa-090c-40a9-dfef-be35339aefc7"
      },
      "execution_count": null,
      "outputs": [
        {
          "output_type": "stream",
          "name": "stderr",
          "text": [
            "[nltk_data] Downloading package stopwords to /root/nltk_data...\n",
            "[nltk_data]   Package stopwords is already up-to-date!\n",
            "[nltk_data] Downloading package punkt to /root/nltk_data...\n",
            "[nltk_data]   Package punkt is already up-to-date!\n",
            "[nltk_data] Downloading package wordnet to /root/nltk_data...\n",
            "[nltk_data]   Package wordnet is already up-to-date!\n"
          ]
        }
      ]
    },
    {
      "cell_type": "code",
      "source": [
        "def str_type_count(x, tset):\n",
        "    words = x.split()\n",
        "    return len([s for s in words if s in tset])\n",
        "\n",
        "def digit_count(x):\n",
        "    return len([d for d in x if d in sDigits])\n",
        "\n",
        "def word_max(x):\n",
        "    words = word_tokenize(x)\n",
        "    return 0 if len(words)==0 else max([len(w) for w in words])\n",
        "\n",
        "def word_min(x):\n",
        "    words = word_tokenize(x)\n",
        "    return 0 if len(words)==0 else min([len(w) for w in words if w not in stopwordsSpEn])\n",
        "\n",
        "def word_mean(x):\n",
        "    words = word_tokenize(x)\n",
        "    return 0 if len(words)==0 else np.mean([len(w) for w in words])\n",
        "\n",
        "def sent_max(x):\n",
        "    sents = sent_tokenize(x)\n",
        "    return 0 if len(sents)==0 else max([len(s) for s in sents])\n",
        "\n",
        "def sent_min(x):\n",
        "    sents = sent_tokenize(x)\n",
        "    return 0 if len(sents)==0 else min([len(s) for s in sents])\n",
        "\n",
        "def sent_mean(x):\n",
        "    sents = sent_tokenize(x)\n",
        "    return 0 if len(sents)==0 else np.mean([len(s) for s in sents])\n",
        "\n",
        "def preprocess(df):\n",
        "    # ARREGLOS Y DROPEOS\n",
        "    try:\n",
        "        df[\"genre\"][df[df.genre == \"Children's Music\"].index[0]] = \"Children’s Music\"\n",
        "    except:\n",
        "        pass\n",
        "    df = df.drop(columns = [\"track_name\",\"did\",\"artist\",\"a_genres\",\"a_songs\"])\n",
        "\n",
        "    # IMPUTACIÓN DE NULOS\n",
        "    s_labelMean = df[\"s-label\"].mean()\n",
        "    df.lyric = df.lyric.fillna(\"\").astype(str)\n",
        "    df.language = df.language.map(lambda x: \"ot\" if type(x)==type(None) else x)\n",
        "    df[\"s-label\"] = df[\"s-label\"].fillna(s_labelMean)\n",
        "    df[\"mode\"] = df[\"mode\"].map(lambda m: int(m==\"Major\"))\n",
        "\n",
        "    # CREACIÓN DE FEATURES A PARTIR DE LAS LYRICS\n",
        "    df[\"lyricCharCount\"] = df.lyric.map(len)\n",
        "    df[\"lyricWordCount\"] = df.lyric.map(lambda x: len(word_tokenize(x)))\n",
        "    df[\"lyricUniqueWordCount\"] = df.lyric.map(lambda x: len(set(x.split())))\n",
        "    df[\"lyricSentenceCount\"] = df.lyric.map(lambda x: len(sent_tokenize(x)))\n",
        "    df[\"lyricUniqueSentenceCount\"] = df.lyric.map(lambda x: len(set(sent_tokenize(x))))\n",
        "    df[\"lyricDigitCount\"] = df.lyric.map(digit_count)\n",
        "    df[\"lyricStopwordCount\"] = df.lyric.map(lambda x: str_type_count(x, stopwordsSpEn))\n",
        "    df[\"lyricPunctuationCount\"] = df.lyric.map(lambda x: str_type_count(x, sPunctuations))\n",
        "    df[\"lyricLongestWordLen\"] = df.lyric.map(word_max)\n",
        "    df[\"lyricShortestWordLen\"] = df.lyric.map(word_min)\n",
        "    df[\"lyricWordLenMean\"] = df.lyric.map(word_mean)\n",
        "    df[\"lyricLongestSentenceLen\"] = df.lyric.map(sent_max)\n",
        "    df[\"lyricShortestSentenceLen\"] = df.lyric.map(sent_min)\n",
        "    df[\"lyricSentenceLenMean\"] = df.lyric.map(sent_mean)\n",
        "\n",
        "    #Mean encoding de a_popularity respecto de categóricas\n",
        "    grpByLanguage = df.groupby([\"language\"]).mean()[\"a_popularity\"]\n",
        "    grpByKey = df.groupby([\"key\"]).mean()[\"a_popularity\"]\n",
        "    grpByTimeSignature = df.groupby([\"time_signature\"]).mean()[\"a_popularity\"]\n",
        "    grpByMode = df.groupby([\"mode\"]).mean()[\"a_popularity\"]\n",
        "    df[\"a_popularityMeanByLanguage\"] = df[\"language\"].map(lambda x: grpByLanguage[x])\n",
        "    df[\"a_popularityMeanByKey\"] = df[\"key\"].map(lambda x: grpByKey[x])\n",
        "    df[\"a_popularityMeanByTimeSignature\"] = df[\"time_signature\"].map(lambda x: grpByTimeSignature[x])\n",
        "    df[\"a_popularityMeanByMode\"] = df[\"mode\"].map(lambda x: grpByMode[x])\n",
        "\n",
        "    return df"
      ],
      "metadata": {
        "id": "I5iWlzATeBL0"
      },
      "execution_count": null,
      "outputs": []
    },
    {
      "cell_type": "code",
      "source": [
        "trainDf = preprocess(trainDf)\n",
        "valDf = preprocess(valDf)\n",
        "testDf = preprocess(testDf)"
      ],
      "metadata": {
        "id": "3ZUIz4fK4A8V"
      },
      "execution_count": null,
      "outputs": []
    },
    {
      "cell_type": "markdown",
      "source": [
        "# **ESTANDARIZACIÓN Y ENCODING**"
      ],
      "metadata": {
        "id": "qlo36wsU3e3P"
      }
    },
    {
      "cell_type": "code",
      "source": [
        "def normalized(column):\n",
        "    colStd = column.std()\n",
        "    return (column - column.mean()) / colStd if colStd!=0 else 0 * column"
      ],
      "metadata": {
        "id": "Ets3w-jn4BYB"
      },
      "execution_count": null,
      "outputs": []
    },
    {
      "cell_type": "code",
      "source": [
        "def normalize_df(df, featureList):\n",
        "    for f in featureList:\n",
        "        df[f] = normalized(df[f])\n",
        "    return df"
      ],
      "metadata": {
        "id": "bWluktMC4DF4"
      },
      "execution_count": null,
      "outputs": []
    },
    {
      "cell_type": "code",
      "source": [
        "from sklearn.preprocessing import OneHotEncoder\n",
        "\n",
        "def one_hot_encode(df, catCols):\n",
        "    encoder = OneHotEncoder(handle_unknown='ignore', sparse=False)\n",
        "    encoder.fit(df[catCols])\n",
        "    encFts = list(encoder.get_feature_names(catCols))\n",
        "    df[encFts] = encoder.transform(df[catCols])\n",
        "    return df"
      ],
      "metadata": {
        "id": "McHTHuvp4FPd"
      },
      "execution_count": null,
      "outputs": []
    },
    {
      "cell_type": "code",
      "source": [
        "catCols = [\"language\",\"time_signature\",\"key\"]\n",
        "trainDf = one_hot_encode(trainDf, catCols)\n",
        "valDf = one_hot_encode(valDf, catCols)\n",
        "testDf = one_hot_encode(testDf, catCols)"
      ],
      "metadata": {
        "id": "8LeTf0mU4IHJ",
        "colab": {
          "base_uri": "https://localhost:8080/"
        },
        "outputId": "5312a6d8-8f53-4e79-f17d-df491f781880"
      },
      "execution_count": null,
      "outputs": [
        {
          "output_type": "stream",
          "name": "stderr",
          "text": [
            "/usr/local/lib/python3.7/dist-packages/sklearn/utils/deprecation.py:87: FutureWarning: Function get_feature_names is deprecated; get_feature_names is deprecated in 1.0 and will be removed in 1.2. Please use get_feature_names_out instead.\n",
            "  warnings.warn(msg, category=FutureWarning)\n",
            "/usr/local/lib/python3.7/dist-packages/sklearn/utils/deprecation.py:87: FutureWarning: Function get_feature_names is deprecated; get_feature_names is deprecated in 1.0 and will be removed in 1.2. Please use get_feature_names_out instead.\n",
            "  warnings.warn(msg, category=FutureWarning)\n",
            "/usr/local/lib/python3.7/dist-packages/sklearn/utils/deprecation.py:87: FutureWarning: Function get_feature_names is deprecated; get_feature_names is deprecated in 1.0 and will be removed in 1.2. Please use get_feature_names_out instead.\n",
            "  warnings.warn(msg, category=FutureWarning)\n"
          ]
        }
      ]
    },
    {
      "cell_type": "code",
      "source": [
        "from sklearn.feature_extraction.text import CountVectorizer\n",
        "\n",
        "countIDF = CountVectorizer(lowercase=True, stop_words=stopwordsSpEn, max_features=50)\n",
        "countIDF.fit(trainDf.lyric)\n",
        "ftNames = [\"word\"+w.capitalize() for w in countIDF.get_feature_names_out()]\n",
        "\n",
        "for df in [trainDf, valDf, testDf]:\n",
        "    wordMatrix = countIDF.transform(df.lyric)\n",
        "    df[ftNames] = pd.DataFrame(wordMatrix.todense(), columns=ftNames, index=df.index)"
      ],
      "metadata": {
        "id": "TaDC-r6LVO9D"
      },
      "execution_count": null,
      "outputs": []
    },
    {
      "cell_type": "code",
      "source": [
        "featureList = [f for f in trainDf if f not in [\"genre\",\"lyric\",\"language\",\"time_signature\",\"key\"]]"
      ],
      "metadata": {
        "id": "A4WQ02zaigUc"
      },
      "execution_count": null,
      "outputs": []
    },
    {
      "cell_type": "code",
      "source": [
        "# HAY CATEGORÍAS EN EL TRAIN_DF QUE NO ESTÁN EN EL VAL_DF O EN EL TEST_DF\n",
        "# COMO EL ONEHOTENCODING NO LAS CREO, LAS CREO COMO NULAS\n",
        "for f in featureList:\n",
        "    if f not in valDf:\n",
        "        valDf[f] = 0\n",
        "    if f not in testDf:\n",
        "        testDf[f] = 0"
      ],
      "metadata": {
        "id": "I_3thuWlii36"
      },
      "execution_count": null,
      "outputs": []
    },
    {
      "cell_type": "code",
      "source": [
        "testDf = testDf.query(\"genre in @genreList\")\n",
        "valDf = valDf.query(\"genre in @genreList\")"
      ],
      "metadata": {
        "id": "eLjp-VM-AiOg"
      },
      "execution_count": null,
      "outputs": []
    },
    {
      "cell_type": "code",
      "source": [
        "trainDf = normalize_df(trainDf, featureList)\n",
        "valDf = normalize_df(valDf, featureList)\n",
        "testDf = normalize_df(testDf, featureList)"
      ],
      "metadata": {
        "id": "p-ZDvWEDAgxa"
      },
      "execution_count": null,
      "outputs": []
    },
    {
      "cell_type": "code",
      "source": [
        "X_train, y_train = trainDf[featureList], trainDf.genre.astype(str)\n",
        "X_test, y_test = testDf[featureList], testDf.genre.astype(str)\n",
        "X_val, y_val = valDf[featureList], valDf.genre.astype(str)"
      ],
      "metadata": {
        "id": "SxO6g7jjim6A"
      },
      "execution_count": null,
      "outputs": []
    },
    {
      "cell_type": "markdown",
      "source": [
        "# **MODELO 1: XGBOOST**"
      ],
      "metadata": {
        "id": "YJNdBcRk3aaV"
      }
    },
    {
      "cell_type": "code",
      "source": [
        "from xgboost import XGBClassifier\n",
        "from sklearn.metrics import top_k_accuracy_score\n",
        "from scipy.stats import loguniform\n",
        "from sklearn.model_selection import RandomizedSearchCV"
      ],
      "metadata": {
        "id": "dj0ex3HInWKl"
      },
      "execution_count": null,
      "outputs": []
    },
    {
      "cell_type": "code",
      "source": [
        "xgbModel = XGBClassifier(seed=10)\n",
        "xgbModel.fit(X_train, y_train)"
      ],
      "metadata": {
        "id": "xfw0-Dw5eFN1"
      },
      "execution_count": null,
      "outputs": []
    },
    {
      "cell_type": "code",
      "source": [
        "hpar_space = {\n",
        "    \"eta\": np.arange(0, 0.3, 0.025),\n",
        "    \"max_depth\": np.arange(3, 10),\n",
        "    \"min_child_weight\": np.arange(0, 10),\n",
        "    \"subsample\": np.arange(0.5, 1, 0.025),\n",
        "    \"objective\": [\"multi:softmax\", \"multi:softprob\"],\n",
        "    \"eval_metric\": ['merror','mlogloss']\n",
        "}"
      ],
      "metadata": {
        "id": "tU3FAR3hrQgb"
      },
      "execution_count": null,
      "outputs": []
    },
    {
      "cell_type": "code",
      "source": [
        "#@title Optimización\n",
        "search = RandomizedSearchCV(xgbModel, hpar_space, cv=2, n_iter=20, scoring='accuracy', verbose=10, random_state=420)\n",
        "result = search.fit(X_train, y_train)"
      ],
      "metadata": {
        "cellView": "form",
        "id": "3wgr2D5hrS4j",
        "colab": {
          "base_uri": "https://localhost:8080/"
        },
        "outputId": "e08314ba-35f3-4e76-e25b-6a75e0f962c7"
      },
      "execution_count": null,
      "outputs": [
        {
          "output_type": "stream",
          "name": "stdout",
          "text": [
            "Fitting 2 folds for each of 20 candidates, totalling 40 fits\n",
            "[CV 1/2; 1/20] START eta=0.025, eval_metric=mlogloss, max_depth=9, min_child_weight=9, objective=multi:softprob, subsample=0.6250000000000001\n",
            "[CV 1/2; 1/20] END eta=0.025, eval_metric=mlogloss, max_depth=9, min_child_weight=9, objective=multi:softprob, subsample=0.6250000000000001;, score=0.369 total time= 3.4min\n",
            "[CV 2/2; 1/20] START eta=0.025, eval_metric=mlogloss, max_depth=9, min_child_weight=9, objective=multi:softprob, subsample=0.6250000000000001\n",
            "[CV 2/2; 1/20] END eta=0.025, eval_metric=mlogloss, max_depth=9, min_child_weight=9, objective=multi:softprob, subsample=0.6250000000000001;, score=0.365 total time= 3.3min\n",
            "[CV 1/2; 2/20] START eta=0.275, eval_metric=merror, max_depth=5, min_child_weight=3, objective=multi:softmax, subsample=0.9000000000000004\n",
            "[CV 1/2; 2/20] END eta=0.275, eval_metric=merror, max_depth=5, min_child_weight=3, objective=multi:softmax, subsample=0.9000000000000004;, score=0.368 total time= 2.1min\n",
            "[CV 2/2; 2/20] START eta=0.275, eval_metric=merror, max_depth=5, min_child_weight=3, objective=multi:softmax, subsample=0.9000000000000004\n",
            "[CV 2/2; 2/20] END eta=0.275, eval_metric=merror, max_depth=5, min_child_weight=3, objective=multi:softmax, subsample=0.9000000000000004;, score=0.345 total time= 2.2min\n",
            "[CV 1/2; 3/20] START eta=0.07500000000000001, eval_metric=mlogloss, max_depth=6, min_child_weight=6, objective=multi:softmax, subsample=0.8750000000000003\n",
            "[CV 1/2; 3/20] END eta=0.07500000000000001, eval_metric=mlogloss, max_depth=6, min_child_weight=6, objective=multi:softmax, subsample=0.8750000000000003;, score=0.366 total time= 2.5min\n",
            "[CV 2/2; 3/20] START eta=0.07500000000000001, eval_metric=mlogloss, max_depth=6, min_child_weight=6, objective=multi:softmax, subsample=0.8750000000000003\n",
            "[CV 2/2; 3/20] END eta=0.07500000000000001, eval_metric=mlogloss, max_depth=6, min_child_weight=6, objective=multi:softmax, subsample=0.8750000000000003;, score=0.359 total time= 2.5min\n",
            "[CV 1/2; 4/20] START eta=0.275, eval_metric=merror, max_depth=4, min_child_weight=5, objective=multi:softprob, subsample=0.9750000000000004\n",
            "[CV 1/2; 4/20] END eta=0.275, eval_metric=merror, max_depth=4, min_child_weight=5, objective=multi:softprob, subsample=0.9750000000000004;, score=0.362 total time= 1.7min\n",
            "[CV 2/2; 4/20] START eta=0.275, eval_metric=merror, max_depth=4, min_child_weight=5, objective=multi:softprob, subsample=0.9750000000000004\n",
            "[CV 2/2; 4/20] END eta=0.275, eval_metric=merror, max_depth=4, min_child_weight=5, objective=multi:softprob, subsample=0.9750000000000004;, score=0.345 total time= 1.7min\n",
            "[CV 1/2; 5/20] START eta=0.2, eval_metric=merror, max_depth=8, min_child_weight=5, objective=multi:softprob, subsample=0.55\n",
            "[CV 1/2; 5/20] END eta=0.2, eval_metric=merror, max_depth=8, min_child_weight=5, objective=multi:softprob, subsample=0.55;, score=0.368 total time= 3.3min\n",
            "[CV 2/2; 5/20] START eta=0.2, eval_metric=merror, max_depth=8, min_child_weight=5, objective=multi:softprob, subsample=0.55\n",
            "[CV 2/2; 5/20] END eta=0.2, eval_metric=merror, max_depth=8, min_child_weight=5, objective=multi:softprob, subsample=0.55;, score=0.367 total time= 3.3min\n",
            "[CV 1/2; 6/20] START eta=0.0, eval_metric=merror, max_depth=6, min_child_weight=0, objective=multi:softmax, subsample=0.7250000000000002\n",
            "[CV 1/2; 6/20] END eta=0.0, eval_metric=merror, max_depth=6, min_child_weight=0, objective=multi:softmax, subsample=0.7250000000000002;, score=0.377 total time= 2.9min\n",
            "[CV 2/2; 6/20] START eta=0.0, eval_metric=merror, max_depth=6, min_child_weight=0, objective=multi:softmax, subsample=0.7250000000000002\n",
            "[CV 2/2; 6/20] END eta=0.0, eval_metric=merror, max_depth=6, min_child_weight=0, objective=multi:softmax, subsample=0.7250000000000002;, score=0.346 total time= 2.8min\n",
            "[CV 1/2; 7/20] START eta=0.025, eval_metric=mlogloss, max_depth=7, min_child_weight=9, objective=multi:softprob, subsample=0.8500000000000003\n",
            "[CV 1/2; 7/20] END eta=0.025, eval_metric=mlogloss, max_depth=7, min_child_weight=9, objective=multi:softprob, subsample=0.8500000000000003;, score=0.368 total time= 2.8min\n",
            "[CV 2/2; 7/20] START eta=0.025, eval_metric=mlogloss, max_depth=7, min_child_weight=9, objective=multi:softprob, subsample=0.8500000000000003\n",
            "[CV 2/2; 7/20] END eta=0.025, eval_metric=mlogloss, max_depth=7, min_child_weight=9, objective=multi:softprob, subsample=0.8500000000000003;, score=0.362 total time= 2.7min\n",
            "[CV 1/2; 8/20] START eta=0.275, eval_metric=mlogloss, max_depth=6, min_child_weight=5, objective=multi:softmax, subsample=0.55\n",
            "[CV 1/2; 8/20] END eta=0.275, eval_metric=mlogloss, max_depth=6, min_child_weight=5, objective=multi:softmax, subsample=0.55;, score=0.369 total time= 2.8min\n",
            "[CV 2/2; 8/20] START eta=0.275, eval_metric=mlogloss, max_depth=6, min_child_weight=5, objective=multi:softmax, subsample=0.55\n",
            "[CV 2/2; 8/20] END eta=0.275, eval_metric=mlogloss, max_depth=6, min_child_weight=5, objective=multi:softmax, subsample=0.55;, score=0.364 total time= 2.7min\n",
            "[CV 1/2; 9/20] START eta=0.17500000000000002, eval_metric=mlogloss, max_depth=7, min_child_weight=1, objective=multi:softprob, subsample=0.7750000000000002\n",
            "[CV 1/2; 9/20] END eta=0.17500000000000002, eval_metric=mlogloss, max_depth=7, min_child_weight=1, objective=multi:softprob, subsample=0.7750000000000002;, score=0.377 total time= 3.1min\n",
            "[CV 2/2; 9/20] START eta=0.17500000000000002, eval_metric=mlogloss, max_depth=7, min_child_weight=1, objective=multi:softprob, subsample=0.7750000000000002\n",
            "[CV 2/2; 9/20] END eta=0.17500000000000002, eval_metric=mlogloss, max_depth=7, min_child_weight=1, objective=multi:softprob, subsample=0.7750000000000002;, score=0.354 total time= 3.1min\n",
            "[CV 1/2; 10/20] START eta=0.025, eval_metric=mlogloss, max_depth=5, min_child_weight=6, objective=multi:softmax, subsample=0.6500000000000001\n",
            "[CV 1/2; 10/20] END eta=0.025, eval_metric=mlogloss, max_depth=5, min_child_weight=6, objective=multi:softmax, subsample=0.6500000000000001;, score=0.367 total time= 2.3min\n",
            "[CV 2/2; 10/20] START eta=0.025, eval_metric=mlogloss, max_depth=5, min_child_weight=6, objective=multi:softmax, subsample=0.6500000000000001\n",
            "[CV 2/2; 10/20] END eta=0.025, eval_metric=mlogloss, max_depth=5, min_child_weight=6, objective=multi:softmax, subsample=0.6500000000000001;, score=0.365 total time= 2.3min\n",
            "[CV 1/2; 11/20] START eta=0.07500000000000001, eval_metric=merror, max_depth=3, min_child_weight=7, objective=multi:softprob, subsample=0.7000000000000002\n",
            "[CV 1/2; 11/20] END eta=0.07500000000000001, eval_metric=merror, max_depth=3, min_child_weight=7, objective=multi:softprob, subsample=0.7000000000000002;, score=0.363 total time= 1.5min\n",
            "[CV 2/2; 11/20] START eta=0.07500000000000001, eval_metric=merror, max_depth=3, min_child_weight=7, objective=multi:softprob, subsample=0.7000000000000002\n",
            "[CV 2/2; 11/20] END eta=0.07500000000000001, eval_metric=merror, max_depth=3, min_child_weight=7, objective=multi:softprob, subsample=0.7000000000000002;, score=0.348 total time= 1.5min\n",
            "[CV 1/2; 12/20] START eta=0.125, eval_metric=mlogloss, max_depth=9, min_child_weight=9, objective=multi:softmax, subsample=0.7750000000000002\n",
            "[CV 1/2; 12/20] END eta=0.125, eval_metric=mlogloss, max_depth=9, min_child_weight=9, objective=multi:softmax, subsample=0.7750000000000002;, score=0.372 total time= 3.4min\n",
            "[CV 2/2; 12/20] START eta=0.125, eval_metric=mlogloss, max_depth=9, min_child_weight=9, objective=multi:softmax, subsample=0.7750000000000002\n",
            "[CV 2/2; 12/20] END eta=0.125, eval_metric=mlogloss, max_depth=9, min_child_weight=9, objective=multi:softmax, subsample=0.7750000000000002;, score=0.367 total time= 3.3min\n",
            "[CV 1/2; 13/20] START eta=0.275, eval_metric=mlogloss, max_depth=6, min_child_weight=2, objective=multi:softmax, subsample=0.7000000000000002\n",
            "[CV 1/2; 13/20] END eta=0.275, eval_metric=mlogloss, max_depth=6, min_child_weight=2, objective=multi:softmax, subsample=0.7000000000000002;, score=0.370 total time= 2.8min\n",
            "[CV 2/2; 13/20] START eta=0.275, eval_metric=mlogloss, max_depth=6, min_child_weight=2, objective=multi:softmax, subsample=0.7000000000000002\n",
            "[CV 2/2; 13/20] END eta=0.275, eval_metric=mlogloss, max_depth=6, min_child_weight=2, objective=multi:softmax, subsample=0.7000000000000002;, score=0.355 total time= 2.7min\n",
            "[CV 1/2; 14/20] START eta=0.025, eval_metric=mlogloss, max_depth=9, min_child_weight=7, objective=multi:softmax, subsample=0.8250000000000003\n",
            "[CV 1/2; 14/20] END eta=0.025, eval_metric=mlogloss, max_depth=9, min_child_weight=7, objective=multi:softmax, subsample=0.8250000000000003;, score=0.377 total time= 3.4min\n",
            "[CV 2/2; 14/20] START eta=0.025, eval_metric=mlogloss, max_depth=9, min_child_weight=7, objective=multi:softmax, subsample=0.8250000000000003\n",
            "[CV 2/2; 14/20] END eta=0.025, eval_metric=mlogloss, max_depth=9, min_child_weight=7, objective=multi:softmax, subsample=0.8250000000000003;, score=0.368 total time= 3.4min\n",
            "[CV 1/2; 15/20] START eta=0.025, eval_metric=merror, max_depth=5, min_child_weight=4, objective=multi:softprob, subsample=0.8000000000000003\n",
            "[CV 1/2; 15/20] END eta=0.025, eval_metric=merror, max_depth=5, min_child_weight=4, objective=multi:softprob, subsample=0.8000000000000003;, score=0.368 total time= 2.3min\n",
            "[CV 2/2; 15/20] START eta=0.025, eval_metric=merror, max_depth=5, min_child_weight=4, objective=multi:softprob, subsample=0.8000000000000003\n",
            "[CV 2/2; 15/20] END eta=0.025, eval_metric=merror, max_depth=5, min_child_weight=4, objective=multi:softprob, subsample=0.8000000000000003;, score=0.355 total time= 2.2min\n",
            "[CV 1/2; 16/20] START eta=0.2, eval_metric=merror, max_depth=5, min_child_weight=0, objective=multi:softmax, subsample=0.6250000000000001\n",
            "[CV 1/2; 16/20] END eta=0.2, eval_metric=merror, max_depth=5, min_child_weight=0, objective=multi:softmax, subsample=0.6250000000000001;, score=0.369 total time= 2.5min\n",
            "[CV 2/2; 16/20] START eta=0.2, eval_metric=merror, max_depth=5, min_child_weight=0, objective=multi:softmax, subsample=0.6250000000000001\n",
            "[CV 2/2; 16/20] END eta=0.2, eval_metric=merror, max_depth=5, min_child_weight=0, objective=multi:softmax, subsample=0.6250000000000001;, score=0.342 total time= 2.5min\n",
            "[CV 1/2; 17/20] START eta=0.0, eval_metric=mlogloss, max_depth=7, min_child_weight=5, objective=multi:softprob, subsample=0.9750000000000004\n",
            "[CV 1/2; 17/20] END eta=0.0, eval_metric=mlogloss, max_depth=7, min_child_weight=5, objective=multi:softprob, subsample=0.9750000000000004;, score=0.368 total time= 2.7min\n",
            "[CV 2/2; 17/20] START eta=0.0, eval_metric=mlogloss, max_depth=7, min_child_weight=5, objective=multi:softprob, subsample=0.9750000000000004\n",
            "[CV 2/2; 17/20] END eta=0.0, eval_metric=mlogloss, max_depth=7, min_child_weight=5, objective=multi:softprob, subsample=0.9750000000000004;, score=0.361 total time= 2.7min\n",
            "[CV 1/2; 18/20] START eta=0.225, eval_metric=merror, max_depth=8, min_child_weight=5, objective=multi:softmax, subsample=0.7500000000000002\n",
            "[CV 1/2; 18/20] END eta=0.225, eval_metric=merror, max_depth=8, min_child_weight=5, objective=multi:softmax, subsample=0.7500000000000002;, score=0.378 total time= 3.3min\n",
            "[CV 2/2; 18/20] START eta=0.225, eval_metric=merror, max_depth=8, min_child_weight=5, objective=multi:softmax, subsample=0.7500000000000002\n",
            "[CV 2/2; 18/20] END eta=0.225, eval_metric=merror, max_depth=8, min_child_weight=5, objective=multi:softmax, subsample=0.7500000000000002;, score=0.364 total time= 3.2min\n",
            "[CV 1/2; 19/20] START eta=0.275, eval_metric=merror, max_depth=7, min_child_weight=8, objective=multi:softprob, subsample=0.6750000000000002\n",
            "[CV 1/2; 19/20] END eta=0.275, eval_metric=merror, max_depth=7, min_child_weight=8, objective=multi:softprob, subsample=0.6750000000000002;, score=0.367 total time= 2.9min\n",
            "[CV 2/2; 19/20] START eta=0.275, eval_metric=merror, max_depth=7, min_child_weight=8, objective=multi:softprob, subsample=0.6750000000000002\n",
            "[CV 2/2; 19/20] END eta=0.275, eval_metric=merror, max_depth=7, min_child_weight=8, objective=multi:softprob, subsample=0.6750000000000002;, score=0.366 total time= 2.9min\n",
            "[CV 1/2; 20/20] START eta=0.025, eval_metric=merror, max_depth=8, min_child_weight=2, objective=multi:softmax, subsample=0.6250000000000001\n",
            "[CV 1/2; 20/20] END eta=0.025, eval_metric=merror, max_depth=8, min_child_weight=2, objective=multi:softmax, subsample=0.6250000000000001;, score=0.378 total time= 3.5min\n",
            "[CV 2/2; 20/20] START eta=0.025, eval_metric=merror, max_depth=8, min_child_weight=2, objective=multi:softmax, subsample=0.6250000000000001\n",
            "[CV 2/2; 20/20] END eta=0.025, eval_metric=merror, max_depth=8, min_child_weight=2, objective=multi:softmax, subsample=0.6250000000000001;, score=0.365 total time= 3.5min\n"
          ]
        }
      ]
    },
    {
      "cell_type": "code",
      "source": [
        "xgbModel = result.best_estimator_"
      ],
      "metadata": {
        "id": "W_nZb966rVRC"
      },
      "execution_count": null,
      "outputs": []
    },
    {
      "cell_type": "code",
      "source": [
        "#@title Modelo tuneado\n",
        "xgbModel"
      ],
      "metadata": {
        "colab": {
          "base_uri": "https://localhost:8080/"
        },
        "id": "xWyqZyxvZyLP",
        "outputId": "60d572f2-5378-4472-f9da-bead96f1814b"
      },
      "execution_count": null,
      "outputs": [
        {
          "output_type": "execute_result",
          "data": {
            "text/plain": [
              "XGBClassifier(eta=0.025, eval_metric='mlogloss', max_depth=9,\n",
              "              min_child_weight=7, objective='multi:softprob', seed=10,\n",
              "              subsample=0.8250000000000003)"
            ]
          },
          "metadata": {},
          "execution_count": 24
        }
      ]
    },
    {
      "cell_type": "code",
      "source": [
        "#borrar\n",
        "xgbModel = XGBClassifier(eta=0.025, eval_metric='mlogloss', max_depth=9,\n",
        "              min_child_weight=7, objective='multi:softprob', seed=10,\n",
        "              subsample=0.8250000000000003)\n",
        "xgbModel.fit(X_train, y_train)"
      ],
      "metadata": {
        "colab": {
          "base_uri": "https://localhost:8080/"
        },
        "id": "IHVjWKuGBIbr",
        "outputId": "e91b495d-00ea-42c5-ef64-d786edb3035f"
      },
      "execution_count": null,
      "outputs": [
        {
          "output_type": "execute_result",
          "data": {
            "text/plain": [
              "XGBClassifier(eta=0.025, eval_metric='mlogloss', max_depth=9,\n",
              "              min_child_weight=7, objective='multi:softprob', seed=10,\n",
              "              subsample=0.8250000000000003)"
            ]
          },
          "metadata": {},
          "execution_count": 19
        }
      ]
    },
    {
      "cell_type": "code",
      "source": [
        "#@title Validación\n",
        "valProbs = xgbModel.predict_proba(X_val)\n",
        "bestValScore = top_k_accuracy_score(y_val, valProbs, k=2, labels=xgbModel.classes_)\n",
        "bestValScore"
      ],
      "metadata": {
        "colab": {
          "base_uri": "https://localhost:8080/"
        },
        "id": "kndNaL1XjoP8",
        "outputId": "3fec046e-c707-44c2-b36e-00d5e744fec1"
      },
      "execution_count": null,
      "outputs": [
        {
          "output_type": "execute_result",
          "data": {
            "text/plain": [
              "0.5268851415844734"
            ]
          },
          "metadata": {},
          "execution_count": 39
        }
      ]
    },
    {
      "cell_type": "markdown",
      "source": [
        "# **MODELO 1: K-NEIGHBORS CLASSIFIER**"
      ],
      "metadata": {
        "id": "JylLVPfDPyTh"
      }
    },
    {
      "cell_type": "code",
      "source": [
        "from sklearn.neighbors import KNeighborsClassifier\n",
        "from sklearn.metrics import top_k_accuracy_score\n",
        "from scipy.stats import loguniform\n",
        "from sklearn.model_selection import RandomizedSearchCV"
      ],
      "metadata": {
        "id": "zczL9HtBP3Oe"
      },
      "execution_count": null,
      "outputs": []
    },
    {
      "cell_type": "code",
      "source": [
        "# KNN precisa clases numéricas, así que indexo los géneros\n",
        "classToNum = { g: genreList.index(g) for g in genreList }"
      ],
      "metadata": {
        "id": "Q5oYBgSvRCab"
      },
      "execution_count": null,
      "outputs": []
    },
    {
      "cell_type": "code",
      "source": [
        "y_train_num = y_train.map(lambda x: classToNum[x])\n",
        "knnModel = KNeighborsClassifier()\n",
        "knnModel.fit(X_train, y_train_num)"
      ],
      "metadata": {
        "colab": {
          "base_uri": "https://localhost:8080/"
        },
        "id": "HncEB1N9P-KM",
        "outputId": "70df037e-efed-4d9c-b315-3c8d0bd8022f"
      },
      "execution_count": null,
      "outputs": [
        {
          "output_type": "execute_result",
          "data": {
            "text/plain": [
              "KNeighborsClassifier()"
            ]
          },
          "metadata": {},
          "execution_count": 28
        }
      ]
    },
    {
      "cell_type": "code",
      "source": [
        "hpar_space = {\n",
        "    \"leaf_size\": np.arange(1,40),\n",
        "    \"n_neighbors\": np.arange(1,30),\n",
        "    \"p\": [1,2],\n",
        "    \"metric\": [\"euclidean\", \"cosine\", \"manhattan\", \"haversine\"],\n",
        "    \"weights\": [\"uniform\",\"distance\"]\n",
        "}"
      ],
      "metadata": {
        "id": "1uZID9JlRsEX"
      },
      "execution_count": null,
      "outputs": []
    },
    {
      "cell_type": "code",
      "source": [
        "search = RandomizedSearchCV(knnModel, hpar_space, cv=2, n_iter=12, scoring='accuracy', verbose=10, random_state=420)\n",
        "result = search.fit(X_train, y_train_num)"
      ],
      "metadata": {
        "colab": {
          "base_uri": "https://localhost:8080/"
        },
        "id": "P9zDC5tDDcUM",
        "outputId": "19f0335f-2991-409e-8271-26b0b04d2fd2"
      },
      "execution_count": null,
      "outputs": [
        {
          "output_type": "stream",
          "name": "stdout",
          "text": [
            "Fitting 2 folds for each of 12 candidates, totalling 24 fits\n",
            "[CV 1/2; 1/12] START leaf_size=25, metric=euclidean, n_neighbors=13, p=1, weights=distance\n",
            "[CV 1/2; 1/12] END leaf_size=25, metric=euclidean, n_neighbors=13, p=1, weights=distance;, score=0.212 total time=   4.2s\n",
            "[CV 2/2; 1/12] START leaf_size=25, metric=euclidean, n_neighbors=13, p=1, weights=distance\n",
            "[CV 2/2; 1/12] END leaf_size=25, metric=euclidean, n_neighbors=13, p=1, weights=distance;, score=0.234 total time=   4.1s\n",
            "[CV 1/2; 2/12] START leaf_size=31, metric=manhattan, n_neighbors=26, p=2, weights=uniform\n",
            "[CV 1/2; 2/12] END leaf_size=31, metric=manhattan, n_neighbors=26, p=2, weights=uniform;, score=0.231 total time= 1.1min\n",
            "[CV 2/2; 2/12] START leaf_size=31, metric=manhattan, n_neighbors=26, p=2, weights=uniform\n",
            "[CV 2/2; 2/12] END leaf_size=31, metric=manhattan, n_neighbors=26, p=2, weights=uniform;, score=0.233 total time=  56.8s\n",
            "[CV 1/2; 3/12] START leaf_size=3, metric=manhattan, n_neighbors=13, p=1, weights=distance\n",
            "[CV 1/2; 3/12] END leaf_size=3, metric=manhattan, n_neighbors=13, p=1, weights=distance;, score=0.243 total time=  54.6s\n",
            "[CV 2/2; 3/12] START leaf_size=3, metric=manhattan, n_neighbors=13, p=1, weights=distance\n",
            "[CV 2/2; 3/12] END leaf_size=3, metric=manhattan, n_neighbors=13, p=1, weights=distance;, score=0.264 total time=  58.2s\n",
            "[CV 1/2; 4/12] START leaf_size=23, metric=cosine, n_neighbors=18, p=2, weights=uniform\n",
            "[CV 1/2; 4/12] END leaf_size=23, metric=cosine, n_neighbors=18, p=2, weights=uniform;, score=0.220 total time=   3.8s\n",
            "[CV 2/2; 4/12] START leaf_size=23, metric=cosine, n_neighbors=18, p=2, weights=uniform\n",
            "[CV 2/2; 4/12] END leaf_size=23, metric=cosine, n_neighbors=18, p=2, weights=uniform;, score=0.227 total time=   3.8s\n",
            "[CV 1/2; 5/12] START leaf_size=1, metric=manhattan, n_neighbors=9, p=2, weights=uniform\n",
            "[CV 1/2; 5/12] END leaf_size=1, metric=manhattan, n_neighbors=9, p=2, weights=uniform;, score=0.216 total time=  53.2s\n",
            "[CV 2/2; 5/12] START leaf_size=1, metric=manhattan, n_neighbors=9, p=2, weights=uniform\n",
            "[CV 2/2; 5/12] END leaf_size=1, metric=manhattan, n_neighbors=9, p=2, weights=uniform;, score=0.227 total time=  54.2s\n",
            "[CV 1/2; 6/12] START leaf_size=24, metric=cosine, n_neighbors=29, p=2, weights=distance\n",
            "[CV 1/2; 6/12] END leaf_size=24, metric=cosine, n_neighbors=29, p=2, weights=distance;, score=0.237 total time=   3.4s\n",
            "[CV 2/2; 6/12] START leaf_size=24, metric=cosine, n_neighbors=29, p=2, weights=distance\n",
            "[CV 2/2; 6/12] END leaf_size=24, metric=cosine, n_neighbors=29, p=2, weights=distance;, score=0.252 total time=   3.5s\n",
            "[CV 1/2; 7/12] START leaf_size=39, metric=haversine, n_neighbors=21, p=2, weights=uniform\n",
            "[CV 1/2; 7/12] END leaf_size=39, metric=haversine, n_neighbors=21, p=2, weights=uniform;, score=nan total time=   0.0s\n",
            "[CV 2/2; 7/12] START leaf_size=39, metric=haversine, n_neighbors=21, p=2, weights=uniform\n",
            "[CV 2/2; 7/12] END leaf_size=39, metric=haversine, n_neighbors=21, p=2, weights=uniform;, score=nan total time=   0.0s\n",
            "[CV 1/2; 8/12] START leaf_size=21, metric=cosine, n_neighbors=13, p=2, weights=uniform\n"
          ]
        },
        {
          "output_type": "stream",
          "name": "stderr",
          "text": [
            "/usr/local/lib/python3.7/dist-packages/sklearn/model_selection/_validation.py:774: UserWarning: Scoring failed. The score on this train-test partition for these parameters will be set to nan. Details: \n",
            "Traceback (most recent call last):\n",
            "  File \"/usr/local/lib/python3.7/dist-packages/sklearn/model_selection/_validation.py\", line 761, in _score\n",
            "    scores = scorer(estimator, X_test, y_test)\n",
            "  File \"/usr/local/lib/python3.7/dist-packages/sklearn/metrics/_scorer.py\", line 221, in __call__\n",
            "    sample_weight=sample_weight,\n",
            "  File \"/usr/local/lib/python3.7/dist-packages/sklearn/metrics/_scorer.py\", line 258, in _score\n",
            "    y_pred = method_caller(estimator, \"predict\", X)\n",
            "  File \"/usr/local/lib/python3.7/dist-packages/sklearn/metrics/_scorer.py\", line 68, in _cached_call\n",
            "    return getattr(estimator, method)(*args, **kwargs)\n",
            "  File \"/usr/local/lib/python3.7/dist-packages/sklearn/neighbors/_classification.py\", line 214, in predict\n",
            "    neigh_dist, neigh_ind = self.kneighbors(X)\n",
            "  File \"/usr/local/lib/python3.7/dist-packages/sklearn/neighbors/_base.py\", line 759, in kneighbors\n",
            "    **kwds,\n",
            "  File \"/usr/local/lib/python3.7/dist-packages/sklearn/metrics/pairwise.py\", line 1717, in pairwise_distances_chunked\n",
            "    D_chunk = pairwise_distances(X_chunk, Y, metric=metric, n_jobs=n_jobs, **kwds)\n",
            "  File \"/usr/local/lib/python3.7/dist-packages/sklearn/metrics/pairwise.py\", line 1889, in pairwise_distances\n",
            "    return _parallel_pairwise(X, Y, func, n_jobs, **kwds)\n",
            "  File \"/usr/local/lib/python3.7/dist-packages/sklearn/metrics/pairwise.py\", line 1430, in _parallel_pairwise\n",
            "    return func(X, Y, **kwds)\n",
            "  File \"/usr/local/lib/python3.7/dist-packages/sklearn/metrics/pairwise.py\", line 788, in haversine_distances\n",
            "    return DistanceMetric.get_metric(\"haversine\").pairwise(X, Y)\n",
            "  File \"sklearn/metrics/_dist_metrics.pyx\", line 406, in sklearn.metrics._dist_metrics.DistanceMetric.pairwise\n",
            "  File \"sklearn/metrics/_dist_metrics.pyx\", line 1016, in sklearn.metrics._dist_metrics.HaversineDistance._validate_data\n",
            "ValueError: Haversine distance only valid in 2 dimensions\n",
            "\n",
            "  UserWarning,\n",
            "/usr/local/lib/python3.7/dist-packages/sklearn/model_selection/_validation.py:774: UserWarning: Scoring failed. The score on this train-test partition for these parameters will be set to nan. Details: \n",
            "Traceback (most recent call last):\n",
            "  File \"/usr/local/lib/python3.7/dist-packages/sklearn/model_selection/_validation.py\", line 761, in _score\n",
            "    scores = scorer(estimator, X_test, y_test)\n",
            "  File \"/usr/local/lib/python3.7/dist-packages/sklearn/metrics/_scorer.py\", line 221, in __call__\n",
            "    sample_weight=sample_weight,\n",
            "  File \"/usr/local/lib/python3.7/dist-packages/sklearn/metrics/_scorer.py\", line 258, in _score\n",
            "    y_pred = method_caller(estimator, \"predict\", X)\n",
            "  File \"/usr/local/lib/python3.7/dist-packages/sklearn/metrics/_scorer.py\", line 68, in _cached_call\n",
            "    return getattr(estimator, method)(*args, **kwargs)\n",
            "  File \"/usr/local/lib/python3.7/dist-packages/sklearn/neighbors/_classification.py\", line 214, in predict\n",
            "    neigh_dist, neigh_ind = self.kneighbors(X)\n",
            "  File \"/usr/local/lib/python3.7/dist-packages/sklearn/neighbors/_base.py\", line 759, in kneighbors\n",
            "    **kwds,\n",
            "  File \"/usr/local/lib/python3.7/dist-packages/sklearn/metrics/pairwise.py\", line 1717, in pairwise_distances_chunked\n",
            "    D_chunk = pairwise_distances(X_chunk, Y, metric=metric, n_jobs=n_jobs, **kwds)\n",
            "  File \"/usr/local/lib/python3.7/dist-packages/sklearn/metrics/pairwise.py\", line 1889, in pairwise_distances\n",
            "    return _parallel_pairwise(X, Y, func, n_jobs, **kwds)\n",
            "  File \"/usr/local/lib/python3.7/dist-packages/sklearn/metrics/pairwise.py\", line 1430, in _parallel_pairwise\n",
            "    return func(X, Y, **kwds)\n",
            "  File \"/usr/local/lib/python3.7/dist-packages/sklearn/metrics/pairwise.py\", line 788, in haversine_distances\n",
            "    return DistanceMetric.get_metric(\"haversine\").pairwise(X, Y)\n",
            "  File \"sklearn/metrics/_dist_metrics.pyx\", line 406, in sklearn.metrics._dist_metrics.DistanceMetric.pairwise\n",
            "  File \"sklearn/metrics/_dist_metrics.pyx\", line 1016, in sklearn.metrics._dist_metrics.HaversineDistance._validate_data\n",
            "ValueError: Haversine distance only valid in 2 dimensions\n",
            "\n",
            "  UserWarning,\n"
          ]
        },
        {
          "output_type": "stream",
          "name": "stdout",
          "text": [
            "[CV 1/2; 8/12] END leaf_size=21, metric=cosine, n_neighbors=13, p=2, weights=uniform;, score=0.219 total time=   3.8s\n",
            "[CV 2/2; 8/12] START leaf_size=21, metric=cosine, n_neighbors=13, p=2, weights=uniform\n",
            "[CV 2/2; 8/12] END leaf_size=21, metric=cosine, n_neighbors=13, p=2, weights=uniform;, score=0.225 total time=   3.7s\n",
            "[CV 1/2; 9/12] START leaf_size=37, metric=haversine, n_neighbors=15, p=1, weights=uniform\n",
            "[CV 1/2; 9/12] END leaf_size=37, metric=haversine, n_neighbors=15, p=1, weights=uniform;, score=nan total time=   0.0s\n",
            "[CV 2/2; 9/12] START leaf_size=37, metric=haversine, n_neighbors=15, p=1, weights=uniform\n",
            "[CV 2/2; 9/12] END leaf_size=37, metric=haversine, n_neighbors=15, p=1, weights=uniform;, score=nan total time=   0.0s\n",
            "[CV 1/2; 10/12] START leaf_size=2, metric=manhattan, n_neighbors=27, p=2, weights=distance\n"
          ]
        },
        {
          "output_type": "stream",
          "name": "stderr",
          "text": [
            "/usr/local/lib/python3.7/dist-packages/sklearn/model_selection/_validation.py:774: UserWarning: Scoring failed. The score on this train-test partition for these parameters will be set to nan. Details: \n",
            "Traceback (most recent call last):\n",
            "  File \"/usr/local/lib/python3.7/dist-packages/sklearn/model_selection/_validation.py\", line 761, in _score\n",
            "    scores = scorer(estimator, X_test, y_test)\n",
            "  File \"/usr/local/lib/python3.7/dist-packages/sklearn/metrics/_scorer.py\", line 221, in __call__\n",
            "    sample_weight=sample_weight,\n",
            "  File \"/usr/local/lib/python3.7/dist-packages/sklearn/metrics/_scorer.py\", line 258, in _score\n",
            "    y_pred = method_caller(estimator, \"predict\", X)\n",
            "  File \"/usr/local/lib/python3.7/dist-packages/sklearn/metrics/_scorer.py\", line 68, in _cached_call\n",
            "    return getattr(estimator, method)(*args, **kwargs)\n",
            "  File \"/usr/local/lib/python3.7/dist-packages/sklearn/neighbors/_classification.py\", line 214, in predict\n",
            "    neigh_dist, neigh_ind = self.kneighbors(X)\n",
            "  File \"/usr/local/lib/python3.7/dist-packages/sklearn/neighbors/_base.py\", line 759, in kneighbors\n",
            "    **kwds,\n",
            "  File \"/usr/local/lib/python3.7/dist-packages/sklearn/metrics/pairwise.py\", line 1717, in pairwise_distances_chunked\n",
            "    D_chunk = pairwise_distances(X_chunk, Y, metric=metric, n_jobs=n_jobs, **kwds)\n",
            "  File \"/usr/local/lib/python3.7/dist-packages/sklearn/metrics/pairwise.py\", line 1889, in pairwise_distances\n",
            "    return _parallel_pairwise(X, Y, func, n_jobs, **kwds)\n",
            "  File \"/usr/local/lib/python3.7/dist-packages/sklearn/metrics/pairwise.py\", line 1430, in _parallel_pairwise\n",
            "    return func(X, Y, **kwds)\n",
            "  File \"/usr/local/lib/python3.7/dist-packages/sklearn/metrics/pairwise.py\", line 788, in haversine_distances\n",
            "    return DistanceMetric.get_metric(\"haversine\").pairwise(X, Y)\n",
            "  File \"sklearn/metrics/_dist_metrics.pyx\", line 406, in sklearn.metrics._dist_metrics.DistanceMetric.pairwise\n",
            "  File \"sklearn/metrics/_dist_metrics.pyx\", line 1016, in sklearn.metrics._dist_metrics.HaversineDistance._validate_data\n",
            "ValueError: Haversine distance only valid in 2 dimensions\n",
            "\n",
            "  UserWarning,\n",
            "/usr/local/lib/python3.7/dist-packages/sklearn/model_selection/_validation.py:774: UserWarning: Scoring failed. The score on this train-test partition for these parameters will be set to nan. Details: \n",
            "Traceback (most recent call last):\n",
            "  File \"/usr/local/lib/python3.7/dist-packages/sklearn/model_selection/_validation.py\", line 761, in _score\n",
            "    scores = scorer(estimator, X_test, y_test)\n",
            "  File \"/usr/local/lib/python3.7/dist-packages/sklearn/metrics/_scorer.py\", line 221, in __call__\n",
            "    sample_weight=sample_weight,\n",
            "  File \"/usr/local/lib/python3.7/dist-packages/sklearn/metrics/_scorer.py\", line 258, in _score\n",
            "    y_pred = method_caller(estimator, \"predict\", X)\n",
            "  File \"/usr/local/lib/python3.7/dist-packages/sklearn/metrics/_scorer.py\", line 68, in _cached_call\n",
            "    return getattr(estimator, method)(*args, **kwargs)\n",
            "  File \"/usr/local/lib/python3.7/dist-packages/sklearn/neighbors/_classification.py\", line 214, in predict\n",
            "    neigh_dist, neigh_ind = self.kneighbors(X)\n",
            "  File \"/usr/local/lib/python3.7/dist-packages/sklearn/neighbors/_base.py\", line 759, in kneighbors\n",
            "    **kwds,\n",
            "  File \"/usr/local/lib/python3.7/dist-packages/sklearn/metrics/pairwise.py\", line 1717, in pairwise_distances_chunked\n",
            "    D_chunk = pairwise_distances(X_chunk, Y, metric=metric, n_jobs=n_jobs, **kwds)\n",
            "  File \"/usr/local/lib/python3.7/dist-packages/sklearn/metrics/pairwise.py\", line 1889, in pairwise_distances\n",
            "    return _parallel_pairwise(X, Y, func, n_jobs, **kwds)\n",
            "  File \"/usr/local/lib/python3.7/dist-packages/sklearn/metrics/pairwise.py\", line 1430, in _parallel_pairwise\n",
            "    return func(X, Y, **kwds)\n",
            "  File \"/usr/local/lib/python3.7/dist-packages/sklearn/metrics/pairwise.py\", line 788, in haversine_distances\n",
            "    return DistanceMetric.get_metric(\"haversine\").pairwise(X, Y)\n",
            "  File \"sklearn/metrics/_dist_metrics.pyx\", line 406, in sklearn.metrics._dist_metrics.DistanceMetric.pairwise\n",
            "  File \"sklearn/metrics/_dist_metrics.pyx\", line 1016, in sklearn.metrics._dist_metrics.HaversineDistance._validate_data\n",
            "ValueError: Haversine distance only valid in 2 dimensions\n",
            "\n",
            "  UserWarning,\n"
          ]
        },
        {
          "output_type": "stream",
          "name": "stdout",
          "text": [
            "[CV 1/2; 10/12] END leaf_size=2, metric=manhattan, n_neighbors=27, p=2, weights=distance;, score=0.241 total time=  51.3s\n",
            "[CV 2/2; 10/12] START leaf_size=2, metric=manhattan, n_neighbors=27, p=2, weights=distance\n",
            "[CV 2/2; 10/12] END leaf_size=2, metric=manhattan, n_neighbors=27, p=2, weights=distance;, score=0.255 total time=  57.1s\n",
            "[CV 1/2; 11/12] START leaf_size=1, metric=cosine, n_neighbors=10, p=1, weights=uniform\n",
            "[CV 1/2; 11/12] END leaf_size=1, metric=cosine, n_neighbors=10, p=1, weights=uniform;, score=0.214 total time=   3.8s\n",
            "[CV 2/2; 11/12] START leaf_size=1, metric=cosine, n_neighbors=10, p=1, weights=uniform\n",
            "[CV 2/2; 11/12] END leaf_size=1, metric=cosine, n_neighbors=10, p=1, weights=uniform;, score=0.222 total time=   3.9s\n",
            "[CV 1/2; 12/12] START leaf_size=24, metric=haversine, n_neighbors=19, p=1, weights=distance\n",
            "[CV 1/2; 12/12] END leaf_size=24, metric=haversine, n_neighbors=19, p=1, weights=distance;, score=nan total time=   0.0s\n",
            "[CV 2/2; 12/12] START leaf_size=24, metric=haversine, n_neighbors=19, p=1, weights=distance\n",
            "[CV 2/2; 12/12] END leaf_size=24, metric=haversine, n_neighbors=19, p=1, weights=distance;, score=nan total time=   0.0s\n"
          ]
        },
        {
          "output_type": "stream",
          "name": "stderr",
          "text": [
            "/usr/local/lib/python3.7/dist-packages/sklearn/model_selection/_validation.py:774: UserWarning: Scoring failed. The score on this train-test partition for these parameters will be set to nan. Details: \n",
            "Traceback (most recent call last):\n",
            "  File \"/usr/local/lib/python3.7/dist-packages/sklearn/model_selection/_validation.py\", line 761, in _score\n",
            "    scores = scorer(estimator, X_test, y_test)\n",
            "  File \"/usr/local/lib/python3.7/dist-packages/sklearn/metrics/_scorer.py\", line 221, in __call__\n",
            "    sample_weight=sample_weight,\n",
            "  File \"/usr/local/lib/python3.7/dist-packages/sklearn/metrics/_scorer.py\", line 258, in _score\n",
            "    y_pred = method_caller(estimator, \"predict\", X)\n",
            "  File \"/usr/local/lib/python3.7/dist-packages/sklearn/metrics/_scorer.py\", line 68, in _cached_call\n",
            "    return getattr(estimator, method)(*args, **kwargs)\n",
            "  File \"/usr/local/lib/python3.7/dist-packages/sklearn/neighbors/_classification.py\", line 214, in predict\n",
            "    neigh_dist, neigh_ind = self.kneighbors(X)\n",
            "  File \"/usr/local/lib/python3.7/dist-packages/sklearn/neighbors/_base.py\", line 759, in kneighbors\n",
            "    **kwds,\n",
            "  File \"/usr/local/lib/python3.7/dist-packages/sklearn/metrics/pairwise.py\", line 1717, in pairwise_distances_chunked\n",
            "    D_chunk = pairwise_distances(X_chunk, Y, metric=metric, n_jobs=n_jobs, **kwds)\n",
            "  File \"/usr/local/lib/python3.7/dist-packages/sklearn/metrics/pairwise.py\", line 1889, in pairwise_distances\n",
            "    return _parallel_pairwise(X, Y, func, n_jobs, **kwds)\n",
            "  File \"/usr/local/lib/python3.7/dist-packages/sklearn/metrics/pairwise.py\", line 1430, in _parallel_pairwise\n",
            "    return func(X, Y, **kwds)\n",
            "  File \"/usr/local/lib/python3.7/dist-packages/sklearn/metrics/pairwise.py\", line 788, in haversine_distances\n",
            "    return DistanceMetric.get_metric(\"haversine\").pairwise(X, Y)\n",
            "  File \"sklearn/metrics/_dist_metrics.pyx\", line 406, in sklearn.metrics._dist_metrics.DistanceMetric.pairwise\n",
            "  File \"sklearn/metrics/_dist_metrics.pyx\", line 1016, in sklearn.metrics._dist_metrics.HaversineDistance._validate_data\n",
            "ValueError: Haversine distance only valid in 2 dimensions\n",
            "\n",
            "  UserWarning,\n",
            "/usr/local/lib/python3.7/dist-packages/sklearn/model_selection/_validation.py:774: UserWarning: Scoring failed. The score on this train-test partition for these parameters will be set to nan. Details: \n",
            "Traceback (most recent call last):\n",
            "  File \"/usr/local/lib/python3.7/dist-packages/sklearn/model_selection/_validation.py\", line 761, in _score\n",
            "    scores = scorer(estimator, X_test, y_test)\n",
            "  File \"/usr/local/lib/python3.7/dist-packages/sklearn/metrics/_scorer.py\", line 221, in __call__\n",
            "    sample_weight=sample_weight,\n",
            "  File \"/usr/local/lib/python3.7/dist-packages/sklearn/metrics/_scorer.py\", line 258, in _score\n",
            "    y_pred = method_caller(estimator, \"predict\", X)\n",
            "  File \"/usr/local/lib/python3.7/dist-packages/sklearn/metrics/_scorer.py\", line 68, in _cached_call\n",
            "    return getattr(estimator, method)(*args, **kwargs)\n",
            "  File \"/usr/local/lib/python3.7/dist-packages/sklearn/neighbors/_classification.py\", line 214, in predict\n",
            "    neigh_dist, neigh_ind = self.kneighbors(X)\n",
            "  File \"/usr/local/lib/python3.7/dist-packages/sklearn/neighbors/_base.py\", line 759, in kneighbors\n",
            "    **kwds,\n",
            "  File \"/usr/local/lib/python3.7/dist-packages/sklearn/metrics/pairwise.py\", line 1717, in pairwise_distances_chunked\n",
            "    D_chunk = pairwise_distances(X_chunk, Y, metric=metric, n_jobs=n_jobs, **kwds)\n",
            "  File \"/usr/local/lib/python3.7/dist-packages/sklearn/metrics/pairwise.py\", line 1889, in pairwise_distances\n",
            "    return _parallel_pairwise(X, Y, func, n_jobs, **kwds)\n",
            "  File \"/usr/local/lib/python3.7/dist-packages/sklearn/metrics/pairwise.py\", line 1430, in _parallel_pairwise\n",
            "    return func(X, Y, **kwds)\n",
            "  File \"/usr/local/lib/python3.7/dist-packages/sklearn/metrics/pairwise.py\", line 788, in haversine_distances\n",
            "    return DistanceMetric.get_metric(\"haversine\").pairwise(X, Y)\n",
            "  File \"sklearn/metrics/_dist_metrics.pyx\", line 406, in sklearn.metrics._dist_metrics.DistanceMetric.pairwise\n",
            "  File \"sklearn/metrics/_dist_metrics.pyx\", line 1016, in sklearn.metrics._dist_metrics.HaversineDistance._validate_data\n",
            "ValueError: Haversine distance only valid in 2 dimensions\n",
            "\n",
            "  UserWarning,\n",
            "/usr/local/lib/python3.7/dist-packages/sklearn/model_selection/_search.py:972: UserWarning: One or more of the test scores are non-finite: [0.22309471 0.23194356 0.25370695 0.22377232 0.22154018 0.24441964\n",
            "        nan 0.22165976        nan 0.24832589 0.21799267        nan]\n",
            "  category=UserWarning,\n"
          ]
        }
      ]
    },
    {
      "cell_type": "code",
      "source": [
        "knnModel = result.best_estimator_"
      ],
      "metadata": {
        "id": "Hx2R2ebzDfNW"
      },
      "execution_count": null,
      "outputs": []
    },
    {
      "cell_type": "code",
      "source": [
        "#@title Modelo tuneado\n",
        "knnModel"
      ],
      "metadata": {
        "colab": {
          "base_uri": "https://localhost:8080/"
        },
        "id": "-etbdWZSDsIh",
        "outputId": "c2e230d4-0beb-4ff9-e749-2679d95f2994"
      },
      "execution_count": null,
      "outputs": [
        {
          "output_type": "execute_result",
          "data": {
            "text/plain": [
              "KNeighborsClassifier(leaf_size=3, metric='manhattan', n_neighbors=13, p=1,\n",
              "                     weights='distance')"
            ]
          },
          "metadata": {},
          "execution_count": 45
        }
      ]
    },
    {
      "cell_type": "code",
      "source": [
        "#@title Validación\n",
        "y_val_num = y_val.map(lambda x: classToNum[x])\n",
        "valProbs = knnModel.predict_proba(X_val)\n",
        "bestValScore = top_k_accuracy_score(y_val_num, valProbs, k=2, labels=knnModel.classes_)\n",
        "bestValScore"
      ],
      "metadata": {
        "colab": {
          "base_uri": "https://localhost:8080/"
        },
        "id": "thy4RRHzDtUY",
        "outputId": "2b976ea0-65e6-4d85-8b71-e0fe264da912"
      },
      "execution_count": null,
      "outputs": [
        {
          "output_type": "execute_result",
          "data": {
            "text/plain": [
              "0.3930957683741648"
            ]
          },
          "metadata": {},
          "execution_count": 33
        }
      ]
    },
    {
      "cell_type": "markdown",
      "source": [
        "#**TEST**"
      ],
      "metadata": {
        "id": "TuSo6OJJzks9"
      }
    },
    {
      "cell_type": "code",
      "source": [
        "y_test_num = y_test.map(lambda x: classToNum[x])\n",
        "knnTestProbs = knnModel.predict_proba(X_test)\n",
        "knnTestScore = top_k_accuracy_score(y_test_num, knnTestProbs, k=2, labels=knnModel.classes_)"
      ],
      "metadata": {
        "id": "p6ErGT1vDvD1"
      },
      "execution_count": null,
      "outputs": []
    },
    {
      "cell_type": "code",
      "source": [
        "knnTestScore"
      ],
      "metadata": {
        "colab": {
          "base_uri": "https://localhost:8080/"
        },
        "id": "jUrLLrhTIdPF",
        "outputId": "1be6b441-fe2d-4304-e3d1-3788010e8859"
      },
      "execution_count": null,
      "outputs": [
        {
          "output_type": "execute_result",
          "data": {
            "text/plain": [
              "0.3628977657413676"
            ]
          },
          "metadata": {},
          "execution_count": 41
        }
      ]
    },
    {
      "cell_type": "code",
      "source": [
        "xgbTestProbs = xgbModel.predict_proba(X_test)\n",
        "xgbTestScore = top_k_accuracy_score(y_test, xgbTestProbs, k=2, labels=xgbModel.classes_)"
      ],
      "metadata": {
        "id": "GMQRsdDhDjKz"
      },
      "execution_count": null,
      "outputs": []
    },
    {
      "cell_type": "code",
      "source": [
        "pd.DataFrame(xgbTestProbs, columns=xgbModel.classes_, index=X_test.index).to_csv(\"/content/drive/MyDrive/tp3/parte3/PrediccionesTestML.csv\")"
      ],
      "metadata": {
        "id": "2OVEjIJASUy7"
      },
      "execution_count": null,
      "outputs": []
    },
    {
      "cell_type": "code",
      "source": [
        "print(\"score en test del modelo XGBoosst Classifier: \" + str(xgbTestScore))\n",
        "print(\"score en test del modelo K Neighbors Classifier: \" + str(knnTestScore))"
      ],
      "metadata": {
        "colab": {
          "base_uri": "https://localhost:8080/"
        },
        "id": "OnUR0yt1Doe-",
        "outputId": "fbddd712-5bd3-4a96-a28a-3149bae68c2f"
      },
      "execution_count": null,
      "outputs": [
        {
          "output_type": "stream",
          "name": "stdout",
          "text": [
            "score en test del modelo XGBoosst Classifier: 0.5057549085985105\n",
            "score en test del modelo K Neighbors Classifier: 0.3628977657413676\n"
          ]
        }
      ]
    },
    {
      "cell_type": "code",
      "source": [
        "print(\"El mejor modelo es XGBoost Classifier con un score en test de \" + str(xgbTestScore))"
      ],
      "metadata": {
        "colab": {
          "base_uri": "https://localhost:8080/"
        },
        "id": "vgGpWuDWw_v5",
        "outputId": "b56fe5dc-7266-42ae-db42-be1b92d3a6ec"
      },
      "execution_count": null,
      "outputs": [
        {
          "output_type": "stream",
          "name": "stdout",
          "text": [
            "El mejor modelo es XGBoost Classifier con un score en test de 0.5057549085985105\n"
          ]
        }
      ]
    },
    {
      "cell_type": "markdown",
      "source": [
        "#**Comparación de importancias con la baseline:**\n",
        "#**A diferencia del modelo de LogisticRegression que le da más importancia a la popularidad y a la letra, el modelo de XGBoostClassifier basa más su clasificación en el LENGUAJE y en las features relacionadas con este**"
      ],
      "metadata": {
        "id": "jyvAzXtORgAy"
      }
    },
    {
      "cell_type": "code",
      "source": [
        "#@title Importancias modelo xgb\n",
        "ftImportances = pd.DataFrame(xgbModel.feature_importances_, index=xgbModel.get_booster().feature_names)\\\n",
        "                .rename(columns={0:\"imp\"}).sort_values(\"imp\", ascending=False).head(20)\n",
        "\n",
        "plt.figure(dpi=150, figsize=(6,3), facecolor=\"#FF6BA1\")\n",
        "\n",
        "X_axis = np.arange(len(ftImportances))\n",
        "\n",
        "plt.bar(X_axis, ftImportances.imp, 0.75, color=\"#F8FFDE\", edgecolor=\"#404040\")\n",
        "\n",
        "plt.axes().set_facecolor(\"#00FF57\")\n",
        "plt.xlabel(\"Feature\")\n",
        "plt.ylabel(\"Importancia\")\n",
        "plt.title(\"Imporancia de las features\")\n",
        "plt.xticks(X_axis, ftImportances.index, rotation=90, size=7)\n",
        "plt.show()"
      ],
      "metadata": {
        "colab": {
          "base_uri": "https://localhost:8080/",
          "height": 737
        },
        "cellView": "form",
        "id": "MbnwrtSKSGVr",
        "outputId": "d27c3e46-934d-4932-fab2-6e7b1fe29f20"
      },
      "execution_count": null,
      "outputs": [
        {
          "output_type": "stream",
          "name": "stderr",
          "text": [
            "/usr/local/lib/python3.7/dist-packages/ipykernel_launcher.py:10: MatplotlibDeprecationWarning: Adding an axes using the same arguments as a previous axes currently reuses the earlier instance.  In a future version, a new instance will always be created and returned.  Meanwhile, this warning can be suppressed, and the future behavior ensured, by passing a unique label to each axes instance.\n",
            "  # Remove the CWD from sys.path while we load stuff.\n"
          ]
        },
        {
          "output_type": "display_data",
          "data": {
            "text/plain": [
              "<Figure size 900x450 with 1 Axes>"
            ],
            "image/png": "[encoded data removed]"
          },
          "metadata": {}
        }
      ]
    },
    {
      "cell_type": "code",
      "source": [
        "#@title Importancias baseline logreg\n",
        "from IPython.display import Image\n",
        "Image('/content/drive/MyDrive/tp3/parte2/baseline-importances.png')"
      ],
      "metadata": {
        "colab": {
          "base_uri": "https://localhost:8080/",
          "height": 656
        },
        "cellView": "form",
        "id": "KdrvIk3HRgV4",
        "outputId": "bbc91d6e-6e42-4562-c4b1-ae3d0c7f22fa"
      },
      "execution_count": null,
      "outputs": [
        {
          "output_type": "execute_result",
          "data": {
            "image/png": "[encoded data removed]",
            "text/plain": [
              "<IPython.core.display.Image object>"
            ]
          },
          "metadata": {},
          "execution_count": 46
        }
      ]
    }
  ]
}