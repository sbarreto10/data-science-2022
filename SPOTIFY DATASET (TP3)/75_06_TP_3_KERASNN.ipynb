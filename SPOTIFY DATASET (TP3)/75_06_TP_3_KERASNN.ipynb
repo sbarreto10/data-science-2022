{
  "nbformat": 4,
  "nbformat_minor": 0,
  "metadata": {
    "colab": {
      "provenance": [],
      "mount_file_id": "1f1wpuyYAbtikUhuXF86r8kZZ1tw95Wk6",
      "authorship_tag": "ABX9TyPWSzTqgpJbyl+CnSLvookU",
      "include_colab_link": true
    },
    "kernelspec": {
      "name": "python3",
      "display_name": "Python 3"
    },
    "language_info": {
      "name": "python"
    }
  },
  "cells": [
    {
      "cell_type": "markdown",
      "metadata": {
        "id": "view-in-github",
        "colab_type": "text"
      },
      "source": [
        "<a href=\"https://colab.research.google.com/github/sbarreto10/data-science-2022/blob/main/SPOTIFY%20DATASET%20(TP3)/75_06_TP_3_KERASNN.ipynb\" target=\"_parent\"><img src=\"https://colab.research.google.com/assets/colab-badge.svg\" alt=\"Open In Colab\"/></a>"
      ]
    },
    {
      "cell_type": "markdown",
      "source": [
        "#**LECTURA**"
      ],
      "metadata": {
        "id": "sMlUA_M5M7FE"
      }
    },
    {
      "cell_type": "code",
      "source": [
        "import pandas as pd\n",
        "import numpy as np\n",
        "import seaborn as sns\n",
        "import matplotlib.pyplot as plt\n",
        "import random\n",
        "pd.options.mode.chained_assignment = None\n",
        "\n",
        "from tqdm import tqdm"
      ],
      "metadata": {
        "id": "YP_zveI1M7Qv"
      },
      "execution_count": null,
      "outputs": []
    },
    {
      "cell_type": "code",
      "source": [
        "trainDf = pd.read_parquet(\"/content/drive/MyDrive/tp3/train.parquet\")\n",
        "testDf = pd.read_parquet(\"/content/drive/MyDrive/tp3/test.parquet\")\n",
        "\n",
        "trainDf[\"genre\"][trainDf[trainDf.genre == \"Children's Music\"].index[0]] = \"Children’s Music\""
      ],
      "metadata": {
        "id": "kkHHhXbCNQzW"
      },
      "execution_count": null,
      "outputs": []
    },
    {
      "cell_type": "markdown",
      "source": [
        "#**MULTILABELING**"
      ],
      "metadata": {
        "id": "7wP3fFJsAjRA"
      }
    },
    {
      "cell_type": "code",
      "source": [
        "def multi_label(df, fitting=[]):\n",
        "    grp = df[[\"track_name\",\"artist\",\"genre\"]]\n",
        "    grp[\"1\"] = 1\n",
        "    grp[\"id\"] = grp.apply(lambda x: (x.track_name, x.artist), axis=1)\n",
        "    piv = grp.pivot_table(columns=\"genre\", index=\"id\", values=\"1\", fill_value=0)\n",
        "    for g in fitting:\n",
        "        if g not in piv.columns:\n",
        "            piv[g] = 0\n",
        "    df[\"id\"] = df.apply(lambda x: (x.track_name, x.artist), axis=1)\n",
        "    df = df.drop_duplicates(subset=[\"id\"], keep='first')\n",
        "\n",
        "    return df.merge(piv,on=\"id\"), piv.columns\n",
        "\n",
        "trainDf, trainGenres = multi_label(trainDf)\n",
        "testDf, genreList = multi_label(testDf, fitting=trainGenres)\n",
        "genreList = genreList.tolist()"
      ],
      "metadata": {
        "id": "s1F5Hv_IAixh"
      },
      "execution_count": null,
      "outputs": []
    },
    {
      "cell_type": "code",
      "source": [
        "trainDf, genreList = multi_label(trainDf)\n",
        "testDf, genreList = multi_label(testDf, fitting=trainGenres)\n",
        "genreList = genreList.tolist()"
      ],
      "metadata": {
        "id": "Ba2YQJCsAvqZ"
      },
      "execution_count": null,
      "outputs": []
    },
    {
      "cell_type": "markdown",
      "source": [
        "#**SPLIT**"
      ],
      "metadata": {
        "id": "gIIQEkwdNWs4"
      }
    },
    {
      "cell_type": "code",
      "source": [
        "random.seed(3)\n",
        "artistList = trainDf.artist.unique().tolist()\n",
        "validationArtists = random.sample(artistList, int(0.2*len(artistList)))\n",
        "trainDf, valDf = trainDf.query(\"artist not in @validationArtists\"), trainDf.query(\"artist in @validationArtists\")"
      ],
      "metadata": {
        "id": "woI66V_kNWRo"
      },
      "execution_count": null,
      "outputs": []
    },
    {
      "cell_type": "markdown",
      "source": [
        "#**PRE-KERAS PREPROCESSING**"
      ],
      "metadata": {
        "id": "4pNe78azBC6T"
      }
    },
    {
      "cell_type": "code",
      "source": [
        "def preprocess(df):\n",
        "    # DROPEO\n",
        "    df = df.drop(columns = [\"id\",\"track_name\",\"did\",\"artist\",\"a_genres\",\"a_songs\"])\n",
        "\n",
        "    # IMPUTACIÓN DE NULOS\n",
        "    s_labelMean = df[\"s-label\"].mean()\n",
        "    df.lyric = df.lyric.fillna(\"\").astype(str)\n",
        "    df.language = df.language.map(lambda x: \"ot\" if type(x)==type(None) else x)\n",
        "    df[\"s-label\"] = df[\"s-label\"].fillna(s_labelMean)\n",
        "    df[\"mode\"] = df[\"mode\"].map(lambda m: int(m==\"Major\"))\n",
        "    df.lyric = df.apply(lambda x: \"\" if type(x.lyric)!=str else x.lyric, axis=1)\n",
        "\n",
        "    return df"
      ],
      "metadata": {
        "id": "8LYrhntxBCOt"
      },
      "execution_count": null,
      "outputs": []
    },
    {
      "cell_type": "code",
      "source": [
        "trainDf = preprocess(trainDf)\n",
        "valDf = preprocess(valDf)\n",
        "testDf = preprocess(testDf)"
      ],
      "metadata": {
        "id": "gY34G9CEBzI0"
      },
      "execution_count": null,
      "outputs": []
    },
    {
      "cell_type": "code",
      "source": [
        "def fix_nan_lyrics(df):\n",
        "    df.lyric = df.apply(lambda x: \"\" if type(x.lyric)!=str else x.lyric, axis=1)\n",
        "    return df\n",
        "\n",
        "trainDf = fix_nan_lyrics(trainDf)\n",
        "valDf = fix_nan_lyrics(valDf)\n",
        "testDf = fix_nan_lyrics(testDf)"
      ],
      "metadata": {
        "id": "DuOgvCLpCB9A"
      },
      "execution_count": null,
      "outputs": []
    },
    {
      "cell_type": "markdown",
      "source": [
        "#**RED NEURONAL**"
      ],
      "metadata": {
        "id": "Bxcf7evNMCPQ"
      }
    },
    {
      "cell_type": "code",
      "execution_count": null,
      "metadata": {
        "id": "p8U4Qdr_LaA2"
      },
      "outputs": [],
      "source": [
        "import keras\n",
        "from keras import Imput\n",
        "from keras.layers import Dense\n",
        "from keras.models import Sequential\n",
        "from keras.layers import Dense, Dropout, Activation\n",
        "from keras.layers import TextVectorization\n",
        "from keras.optimizers import SGD"
      ]
    },
    {
      "cell_type": "code",
      "source": [
        "vectorize_layer = TextVectorization()(\n",
        "    max_tokens=5000,\n",
        "    output_mode=\"tf_idf\",\n",
        "    output_sequence_length=5))"
      ],
      "metadata": {
        "id": "FOIvhqLEEOUI"
      },
      "execution_count": null,
      "outputs": []
    },
    {
      "cell_type": "code",
      "source": [
        "model = Sequential()\n",
        "\n",
        "model.add(Input(shape=(1,), dtype=tf.string))\n",
        "\n",
        "model.add(vectorize_layer)"
      ],
      "metadata": {
        "id": "Jeiiplt3-v7d"
      },
      "execution_count": null,
      "outputs": []
    }
  ]
}