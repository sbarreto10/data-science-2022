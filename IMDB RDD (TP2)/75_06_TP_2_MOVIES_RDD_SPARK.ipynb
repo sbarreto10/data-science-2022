{
  "cells": [
    {
      "cell_type": "markdown",
      "metadata": {
        "id": "view-in-github",
        "colab_type": "text"
      },
      "source": [
        "<a href=\"https://colab.research.google.com/github/sbarreto10/data-science-2022/blob/main/IMDB%20RDD%20(TP2)/75_06_TP_2_MOVIES_RDD_SPARK.ipynb\" target=\"_parent\"><img src=\"https://colab.research.google.com/assets/colab-badge.svg\" alt=\"Open In Colab\"/></a>"
      ]
    },
    {
      "cell_type": "code",
      "execution_count": null,
      "metadata": {
        "id": "TQpuRB6uPKnn",
        "colab": {
          "base_uri": "https://localhost:8080/"
        },
        "outputId": "9370396b-70a7-4901-d64a-8485604ff162"
      },
      "outputs": [
        {
          "output_type": "stream",
          "name": "stdout",
          "text": [
            "Looking in indexes: https://pypi.org/simple, https://us-python.pkg.dev/colab-wheels/public/simple/\n",
            "Requirement already satisfied: pyspark in /usr/local/lib/python3.7/dist-packages (3.3.0)\n",
            "Requirement already satisfied: py4j==0.10.9.5 in /usr/local/lib/python3.7/dist-packages (from pyspark) (0.10.9.5)\n",
            "openjdk-8-jdk-headless is already the newest version (8u342-b07-0ubuntu1~18.04).\n",
            "The following package was automatically installed and is no longer required:\n",
            "  libnvidia-common-460\n",
            "Use 'apt autoremove' to remove it.\n",
            "0 upgraded, 0 newly installed, 0 to remove and 22 not upgraded.\n"
          ]
        }
      ],
      "source": [
        "!pip install pyspark\n",
        "!pip install -U -q PyDrive\n",
        "!apt install openjdk-8-jdk-headless -qq\n",
        "import os\n",
        "os.environ[\"JAVA_HOME\"] = \"/usr/lib/jvm/java-8-openjdk-amd64\""
      ]
    },
    {
      "cell_type": "code",
      "execution_count": null,
      "metadata": {
        "id": "KJKpMDpUOvtO"
      },
      "outputs": [],
      "source": [
        "from pydrive.auth import GoogleAuth\n",
        "from pydrive.drive import GoogleDrive\n",
        "from google.colab import auth\n",
        "from oauth2client.client import GoogleCredentials\n",
        "from pyspark.sql import *\n",
        "from pyspark.sql.functions import *\n",
        "from pyspark import SparkContext\n",
        "from pyspark.sql import SQLContext\n",
        "import pandas as pd\n",
        "import numpy as np\n",
        "from statistics import mean"
      ]
    },
    {
      "cell_type": "code",
      "execution_count": null,
      "metadata": {
        "colab": {
          "base_uri": "https://localhost:8080/"
        },
        "id": "TlL0lDEfRdBl",
        "outputId": "039add7f-ceb8-4bbe-a921-5c10a3dae0f3"
      },
      "outputs": [
        {
          "output_type": "stream",
          "name": "stderr",
          "text": [
            "/usr/local/lib/python3.7/dist-packages/pyspark/sql/context.py:114: FutureWarning: Deprecated in 3.0.0. Use SparkSession.builder.getOrCreate() instead.\n",
            "  FutureWarning,\n"
          ]
        }
      ],
      "source": [
        "spark = SparkSession.builder.getOrCreate()\n",
        "sc = spark.sparkContext\n",
        "rddMovies = SQLContext(sc).read.parquet(\"/content/drive/MyDrive/parquets tp2/movies.parquet\").rdd\n",
        "rddCrew = SQLContext(sc).read.parquet(\"/content/drive/MyDrive/parquets tp2/crew.parquet\").rdd\n",
        "rddLinks = SQLContext(sc).read.parquet(\"/content/drive/MyDrive/parquets tp2/links.parquet\").rdd\n",
        "rddCast = SQLContext(sc).read.parquet(\"/content/drive/MyDrive/parquets tp2/cast.parquet\").rdd\n",
        "rddRatings = SQLContext(sc).read.parquet(\"/content/drive/MyDrive/parquets tp2/ratings.parquet\").rdd\n",
        "rddCompanies = SQLContext(sc).read.parquet(\"/content/drive/MyDrive/parquets tp2/companies.parquet\").rdd\n",
        "rddKeywords = SQLContext(sc).read.parquet(\"/content/drive/MyDrive/parquets tp2/keywords.parquet\").rdd"
      ]
    },
    {
      "cell_type": "markdown",
      "metadata": {
        "id": "fKGci6Jp_6xT"
      },
      "source": [
        "*********************\n",
        "\n",
        "\n",
        "CONSULTA S5\n",
        "\n",
        "\n",
        "*********************\n",
        "\n",
        "\n",
        "\n",
        "\n",
        "\n"
      ]
    },
    {
      "cell_type": "code",
      "execution_count": null,
      "metadata": {
        "id": "yj42YafGp33F"
      },
      "outputs": [],
      "source": [
        "rddCrewSFX = rddCrew.filter(lambda x: x.job == \"Special Effects\").map(lambda x: x.id)"
      ]
    },
    {
      "cell_type": "code",
      "execution_count": null,
      "metadata": {
        "id": "zA1r4zYjupKY"
      },
      "outputs": [],
      "source": [
        "rddCrewSFXCount = rddCrewSFX.map(lambda x: (x, 1)).reduceByKey(lambda x,y: x+y)\n",
        "targetMovieId = rddCrewSFXCount.reduce(lambda x,y: x if x[1] > y[1] else y)[0]"
      ]
    },
    {
      "cell_type": "code",
      "execution_count": null,
      "metadata": {
        "id": "HjyVEq4J9Kh2"
      },
      "outputs": [],
      "source": [
        "def ajustar_imdb_id(x):\n",
        "    cant_ceros = 7 - len(x)\n",
        "    imdb_id = \"tt\"\n",
        "    for i in range(cant_ceros):\n",
        "        imdb_id = imdb_id + \"0\"\n",
        "    return imdb_id + x"
      ]
    },
    {
      "cell_type": "code",
      "execution_count": null,
      "metadata": {
        "id": "x5j-t99-9lg5"
      },
      "outputs": [],
      "source": [
        "targetMovieImdbId = rddLinks.filter(lambda x: x.tmdbId == targetMovieId).first().imdbId\n",
        "targetMovieImdbId = ajustar_imdb_id(str(targetMovieImdbId))"
      ]
    },
    {
      "cell_type": "code",
      "execution_count": null,
      "metadata": {
        "id": "cOB19qx876he"
      },
      "outputs": [],
      "source": [
        "targetMovie = rddMovies.filter(lambda x: x.imdb_id == targetMovieImdbId ).first().title"
      ]
    },
    {
      "cell_type": "code",
      "execution_count": null,
      "metadata": {
        "colab": {
          "base_uri": "https://localhost:8080/"
        },
        "id": "cvQiL2J4_J9N",
        "outputId": "8b95a536-14f1-45b7-b23c-2f37b25faf25"
      },
      "outputs": [
        {
          "name": "stdout",
          "output_type": "stream",
          "text": [
            "La película con más trabajos en SFX es 'Jurassic World'\n"
          ]
        }
      ],
      "source": [
        "print(\"La película con más trabajos en SFX es '\" + targetMovie + \"'\")"
      ]
    },
    {
      "cell_type": "markdown",
      "metadata": {
        "id": "pT14u3vLAeIQ"
      },
      "source": [
        "*********************\n",
        "\n",
        "\n",
        "CONSULTA S28\n",
        "\n",
        "\n",
        "*********************"
      ]
    },
    {
      "cell_type": "code",
      "execution_count": null,
      "metadata": {
        "id": "kU5fRC1iAe3n"
      },
      "outputs": [],
      "source": [
        "rddBradPittMovies = rddCast.filter(lambda x: x.name == \"Brad Pitt\").map(lambda x: x.id).distinct()"
      ]
    },
    {
      "cell_type": "code",
      "execution_count": null,
      "metadata": {
        "id": "_4hji5HnMTLe"
      },
      "outputs": [],
      "source": [
        "rddLinksKv = rddLinks.map(lambda x: (x.tmdbId, x.movieId))\n",
        "rddBradPittMoviesKv = rddBradPittMovies.map(lambda x: (x, 1))"
      ]
    },
    {
      "cell_type": "code",
      "execution_count": null,
      "metadata": {
        "id": "Kz-6T24qJLf6"
      },
      "outputs": [],
      "source": [
        "rddBradPittMoviesLinked = rddLinksKv.join(rddBradPittMoviesKv).map(lambda x: (x[1][0],x[0]))"
      ]
    },
    {
      "cell_type": "code",
      "execution_count": null,
      "metadata": {
        "id": "53MGZELmb4h2"
      },
      "outputs": [],
      "source": [
        "rddRatingsKv = rddRatings.map(lambda x: (x.movieId, (x.userId, x.rating)))\n",
        "rddBradPittMovieRatings = rddRatingsKv.join(rddBradPittMoviesLinked)"
      ]
    },
    {
      "cell_type": "code",
      "execution_count": null,
      "metadata": {
        "id": "RAD_6m9IzlYF"
      },
      "outputs": [],
      "source": [
        "rddUserRatings = rddBradPittMovieRatings.map(lambda x: x[1][0])\n",
        "rddUserRatingsMeans = rddUserRatings.map(lambda x: (x[0],[x[1]])).reduceByKey(lambda x,y: x+y).map(lambda x: (x[0],mean(x[1])))"
      ]
    },
    {
      "cell_type": "code",
      "execution_count": null,
      "metadata": {
        "colab": {
          "base_uri": "https://localhost:8080/"
        },
        "id": "tvN2H6f3NS0I",
        "outputId": "c9df0f24-3f05-41ab-fd4c-27cec09cb65c"
      },
      "outputs": [
        {
          "name": "stdout",
          "output_type": "stream",
          "text": [
            "El mayor fan de Brad Pitt es el usuario '236204'\n"
          ]
        }
      ],
      "source": [
        "bestFanOfBradPitt = rddUserRatingsMeans.reduce(lambda x,y: x if x[1] > y[1] else y)[0]\n",
        "print(\"El mayor fan de Brad Pitt es el usuario '\" + str(bestFanOfBradPitt) + \"'\")"
      ]
    },
    {
      "cell_type": "markdown",
      "metadata": {
        "id": "ULMA9jp7OPQu"
      },
      "source": [
        "*********************\n",
        "\n",
        "\n",
        "CONSULTA S31\n",
        "\n",
        "\n",
        "*********************"
      ]
    },
    {
      "cell_type": "code",
      "execution_count": null,
      "metadata": {
        "id": "CW4tvVIZPZrN"
      },
      "outputs": [],
      "source": [
        "def ROI(r, b):\n",
        "    try:\n",
        "        return (float(r)-float(b))/float(b)\n",
        "    except:\n",
        "        return None"
      ]
    },
    {
      "cell_type": "code",
      "execution_count": null,
      "metadata": {
        "colab": {
          "base_uri": "https://localhost:8080/"
        },
        "id": "d7CtIh303FPX",
        "outputId": "31d5afd3-a95f-4ca5-a8f4-01dca112b0a6"
      },
      "outputs": [
        {
          "output_type": "stream",
          "name": "stdout",
          "text": [
            "Las 3 compañías con mayor ROI promedio son:\n",
            "Amercent Films\n",
            "American Entertainment Partners L.P.\n",
            "Film It Suda\n"
          ]
        }
      ],
      "source": [
        "rddROIMeans = rddMovies.map(lambda x: (x.production_companies, ROI(x.revenue,x.budget)))\\\n",
        "                    .filter(lambda x: x[0]!=None and x[1]!=None)\\\n",
        "                    .flatMap(lambda x: [(c, [x[1]]) for c in x[0].split(\",\")])\\\n",
        "                    .reduceByKey(lambda x,y: x+y).map(lambda x: (x[0], mean(x[1])))\n",
        "majorROI = rddROIMeans.takeOrdered(3, lambda x: -x[1])\n",
        "majorROIids = [int(c[0]) for c in majorROI]\n",
        "majorROIcompanies = rddCompanies.filter(lambda x: any([ (x.id == i) for i in majorROIids ])).map(lambda x: x[1]).collect()\n",
        "\n",
        "print(\"Las 3 compañías con mayor ROI promedio son:\")\n",
        "for c in majorROIcompanies:\n",
        "    print(c)"
      ]
    },
    {
      "cell_type": "markdown",
      "metadata": {
        "id": "Id3GZxwacX0y"
      },
      "source": [
        "*********************\n",
        "\n",
        "\n",
        "CONSULTA S27\n",
        "\n",
        "\n",
        "*********************"
      ]
    },
    {
      "cell_type": "code",
      "source": [
        "rddKeywordsKV = rddKeywords.filter(lambda x: x.keywords != None and x.id != None)\\\n",
        "                            .flatMap(lambda x: [(k, {x.id}) for k in x.keywords.split(\",\")])"
      ],
      "metadata": {
        "id": "r0mrzMvVrfEY"
      },
      "execution_count": null,
      "outputs": []
    },
    {
      "cell_type": "code",
      "source": [
        "rddMoviesByKeyword = rddKeywordsKV.reduceByKey(lambda x,y: x.union(y))\\\n",
        "                                    .sample(False,0.2)\\\n",
        "                                        .map(lambda x: (x[0],(x[1],1)))\n",
        "rddMBKCached = rddMoviesByKeyword.cache()\n",
        "del [rddKeywordsKV, rddMoviesByKeyword]"
      ],
      "metadata": {
        "id": "JE1uUsjztXjc"
      },
      "execution_count": null,
      "outputs": []
    },
    {
      "cell_type": "code",
      "source": [
        "def dist(v, w):\n",
        "    return 1 - len(v.intersection(w))/np.sqrt(len(v)*len(w))\n",
        "\n",
        "def nearest(d, vx, vy):\n",
        "    dx = dist(d[0], vx[1][0])\n",
        "    dy = dist(d[0], vy[1][0])\n",
        "    if dy%1==0: return (vx[0],(vx[1][0],dx))\n",
        "    if dx%1==0: return (vy[0],(vy[1][0],dy))\n",
        "    return (vx[0],(vx[1][0],dx)) if dx<dy else (vy[0],(vy[1][0],dy))\n",
        "\n",
        "def farest(d, vx, vy):\n",
        "    dx = dist(d[0], vx[1][0])\n",
        "    dy = dist(d[0], vy[1][0])\n",
        "    if dy%1==0: return (vx[0],(vx[1][0],dx))\n",
        "    if dx%1==0: return (vy[0],(vy[1][0],dy))\n",
        "    return (vx[0],(vx[1][0],dx)) if dx>dy else (vy[0],(vy[1][0],dy))\n",
        "\n",
        "def rdd_nearest(dup, vRdd):\n",
        "    n = vRdd.reduce(lambda x,y: nearest(dup, x, y))\n",
        "    return (n[0], n[1][1])\n",
        "\n",
        "def rdd_farest(dup, vRdd):\n",
        "    f = vRdd.reduce(lambda x,y: farest(dup, x, y))\n",
        "    return (f[0], f[1][1])"
      ],
      "metadata": {
        "id": "2jW1-ZilwgZ_"
      },
      "execution_count": null,
      "outputs": []
    },
    {
      "cell_type": "code",
      "source": [
        "# NO PUEDO HACER sets.map(lambda x: (x[0],rdd_nearest(x[1], sets),rdd_farest(x[1], sets)))\n",
        "#   Entonces creo un diccionario previo al mapeado"
      ],
      "metadata": {
        "id": "xUMN37jr6L67"
      },
      "execution_count": null,
      "outputs": []
    },
    {
      "cell_type": "code",
      "source": [
        "MBKList = rddMBKCached.collect()"
      ],
      "metadata": {
        "id": "xxDZMsBjLsCv"
      },
      "execution_count": null,
      "outputs": []
    },
    {
      "cell_type": "code",
      "source": [
        "nearestDict = { k: rdd_nearest(dup, rddMBKCached) for (k,dup) in MBKList }"
      ],
      "metadata": {
        "id": "HKyuBLsBAWwL"
      },
      "execution_count": null,
      "outputs": []
    },
    {
      "cell_type": "code",
      "source": [
        "farestDict = { k: rdd_farest(dup, rddMBKCached) for (k,dup) in MBKList }"
      ],
      "metadata": {
        "id": "qH4bfN0_L-lB"
      },
      "execution_count": null,
      "outputs": []
    },
    {
      "cell_type": "code",
      "source": [
        "del [MBKList]\n",
        "rddNeighbors = rddMBKCached.map(lambda x: (x[0],(nearestDict[x[0]], farestDict[x[0]])))\\\n",
        "                        .filter(lambda x: x[1][0][1]%1!=0 and x[1][1][1]%1!=0)\n",
        "del [rddMBKCached]"
      ],
      "metadata": {
        "id": "V1rjfb9yPidE"
      },
      "execution_count": null,
      "outputs": []
    },
    {
      "cell_type": "code",
      "source": [
        "nearestList = rddNeighbors.takeOrdered(10, key=lambda x: -x[1][0][1])\n",
        "farestList = rddNeighbors.takeOrdered(10, key=lambda x: -x[1][1][1])"
      ],
      "metadata": {
        "id": "fIuEuIK-Qutq"
      },
      "execution_count": null,
      "outputs": []
    },
    {
      "cell_type": "code",
      "source": [
        "print(\"Los 10 pares de keywords más cercanas entre si:\")\n",
        "for x in nearestList:\n",
        "    print(\"'\" + x[0] + \"' con '\" + x[1][1][0] + \"'\" )\n",
        "print(\"Los 10 pares de keywords más lejanas entre si:\")\n",
        "for x in farestList:\n",
        "    print(\"'\" + x[0] + \"' con '\" + x[1][1][0] + \"'\" )"
      ],
      "metadata": {
        "colab": {
          "base_uri": "https://localhost:8080/"
        },
        "id": "6IvkFcdEoE1d",
        "outputId": "51286e67-9298-4e0e-e216-4c3a871e4bde"
      },
      "execution_count": null,
      "outputs": [
        {
          "output_type": "stream",
          "name": "stdout",
          "text": [
            "Los 10 pares de keywords más cercanas entre si:\n",
            "'counterfeiting' con 'woman director'\n",
            "'photojournalist' con 'woman director'\n",
            "'marital rape' con 'woman director'\n",
            "'media hype' con 'woman director'\n",
            "'partition' con 'woman director'\n",
            "'nanjing' con 'woman director'\n",
            "'oceanography' con 'independent film'\n",
            "' stocks and bonds ' con 'independent film'\n",
            "'homesick' con 'woman director'\n",
            "'quarter' con 'woman director'\n",
            "Los 10 pares de keywords más lejanas entre si:\n",
            "'woman director' con 'killer'\n",
            "'killer' con 'woman director'\n",
            "'found footage' con 'woman director'\n",
            "'haunted house' con 'woman director'\n",
            "'chicago' con 'woman director'\n",
            "'cult' con 'woman director'\n",
            "'parody' con 'woman director'\n",
            "'vigilante' con 'woman director'\n",
            "'dragon' con 'woman director'\n",
            "'treasure' con 'woman director'\n"
          ]
        }
      ]
    },
    {
      "cell_type": "markdown",
      "metadata": {
        "id": "Bs5hUm_HQNkF"
      },
      "source": [
        "*********************\n",
        "\n",
        "\n",
        "CONSULTA S35\n",
        "\n",
        "\n",
        "*********************"
      ]
    },
    {
      "cell_type": "code",
      "execution_count": null,
      "metadata": {
        "id": "Y985Hg0AQRJ-"
      },
      "outputs": [],
      "source": [
        "def min(x,y):\n",
        "    return x if x<y else y\n",
        "\n",
        "def max(x,y):\n",
        "    return x if x>y else y\n",
        "\n"
      ]
    },
    {
      "cell_type": "code",
      "source": [
        "rddUserTimeCount = rddRatings.map(lambda x: (x.userId, ((x.timestamp, x.timestamp), 1))).sample(False,0.01)\\\n",
        "                            .reduceByKey(lambda x,y: ((min(x[0][0], y[0][0]), max(x[0][1], y[0][1])), x[1]+y[1]))\\\n",
        "                            .map(lambda x: (x[0], ((x[1][0][1] - x[1][0][0]), x[1][1])))\n",
        "rddCached = rddUserTimeCount.cache()\n",
        "\n",
        "oldestUser = rddCached.reduce(lambda x,y: x if x[1][0] > y[1][0] else y)[0]\n",
        "(age, ageSquare, amount, amountSquare, amountAge) = rddCached\\\n",
        "                                    .map(lambda x: (x[1][0], x[1][0]*x[1][0], x[1][1], x[1][1]*x[1][1], x[1][0]*x[1][1]))\\\n",
        "                                .reduce(lambda x,y: (x[0]+y[0],x[1]+y[1],x[2]+y[2],x[3]+y[3],x[4]+y[4]))\n"
      ],
      "metadata": {
        "id": "Lzkxezn_ECBE"
      },
      "execution_count": null,
      "outputs": []
    },
    {
      "cell_type": "code",
      "source": [
        "n = rddCached.count()\n",
        "SSXX = ageSquare - (1/n)*age*age\n",
        "SSYY = amountSquare - (1/n)*amount*amount\n",
        "SSXY = amountAge - (1/n)*amount*age\n",
        "linearCorr = SSXY / np.sqrt(SSXX*SSYY)"
      ],
      "metadata": {
        "id": "PQdHJd2yKXsW"
      },
      "execution_count": null,
      "outputs": []
    },
    {
      "cell_type": "code",
      "source": [
        "print(\"El id del usuario con más antigüedad es el \" + str(oldestUser))"
      ],
      "metadata": {
        "colab": {
          "base_uri": "https://localhost:8080/"
        },
        "id": "dbrCGLfbMkaQ",
        "outputId": "718ded99-8946-4a2a-b598-67f6eccf9b21"
      },
      "execution_count": null,
      "outputs": [
        {
          "output_type": "stream",
          "name": "stdout",
          "text": [
            "El id del usuario con más antigüedad es el 251197\n"
          ]
        }
      ]
    },
    {
      "cell_type": "code",
      "source": [
        "print(\"La correlación entre la antigüedad y la cantidad de ratings hechas es \" + str(linearCorr))"
      ],
      "metadata": {
        "colab": {
          "base_uri": "https://localhost:8080/"
        },
        "id": "lIlfi5LpMrBZ",
        "outputId": "7cf459dc-38a9-4194-b6af-c41eac36ff44"
      },
      "execution_count": null,
      "outputs": [
        {
          "output_type": "stream",
          "name": "stdout",
          "text": [
            "La correlación entre la antigüedad y la cantidad de ratings hechas es 0.5171786758383117\n"
          ]
        }
      ]
    }
  ],
  "metadata": {
    "colab": {
      "provenance": [],
      "mount_file_id": "1qSsGBsgvzsKfLhnU0bKBAI7kdDSUqVJA",
      "authorship_tag": "ABX9TyNMcNrqNaJ/5FJ2OcaJJCxm",
      "include_colab_link": true
    },
    "kernelspec": {
      "display_name": "Python 3",
      "name": "python3"
    },
    "language_info": {
      "name": "python"
    }
  },
  "nbformat": 4,
  "nbformat_minor": 0
}